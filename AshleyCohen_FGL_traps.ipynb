{
 "cells": [
  {
   "cell_type": "code",
   "execution_count": 8,
   "metadata": {},
   "outputs": [
    {
     "name": "stdout",
     "output_type": "stream",
     "text": [
      "Populating the interactive namespace from numpy and matplotlib\n"
     ]
    }
   ],
   "source": [
    "from os import chdir, mkdir\n",
    "from os.path import join\n",
    "#the following are only available in the current development branch of IPython\n",
    "from IPython.display import FileLinks, FileLink\n",
    "\n",
    "%pylab inline\n",
    "import pandas as pd\n",
    "import numpy as np\n",
    "import matplotlib.pyplot as plt\n",
    "\n",
    "# Set some Pandas options\n",
    "pd.set_option('display.notebook_repr_html', False)\n",
    "pd.set_option('display.max_columns', 20)\n",
    "pd.set_option('display.max_rows', 25)\n",
    "#populating the interactive namespace for numpy and matplotlib - not needed now..."
   ]
  },
  {
   "cell_type": "code",
   "execution_count": 143,
   "metadata": {},
   "outputs": [],
   "source": [
    "project_name = \"Ashley Cohen FGLtrap\"\n",
    "mapping_file = \"./metadata.tsv\"\n",
    "classifier = \"./classifier_silva_132_99_16S_V4.V5_515F_926R.qza\"\n",
    "#to avoid changing mapping file / classifier throughout the code, just refer to it by typing $mapping_file. Use the mapping file where all columns but depth are categorical.\n",
    "\n",
    "\n",
    "#NOTE: Amplicon size is ~375 bp. Reads are 2 x 250 bp.\n",
    "#NOTE: the specific adapters Sabeena used exactly match Nextera Transposase Adapters The transposase adapters are used for Nextera tagmentation. Read 1 5′ TCGTCGGCAGCGTCAGATGTGTATAAGAGACAG Read 2 5′ GTCTCGTGGGCTCGGAGATGTGTATAAGAGACAG"
   ]
  },
  {
   "cell_type": "markdown",
   "metadata": {},
   "source": [
    "move to file directory, use bash to unzip all fastq.gz files in all subdirectories. Use -k with gunzip to keep zipped files"
   ]
  },
  {
   "cell_type": "code",
   "execution_count": 3,
   "metadata": {},
   "outputs": [],
   "source": [
    "chdir(\"FASTQ_Generation_2020-12-19_22_20_26Z-355373022\")\n",
    "!find . -type f -name '*.gz' -exec gunzip -k \"{}\" \\;"
   ]
  },
  {
   "cell_type": "markdown",
   "metadata": {},
   "source": [
    "Method 1 of doing read counts: can use one command to perform action across all subdirectories, but have to generte separate files for file name and corresponding reads this way:\n",
    "\n",
    "get textlist of all filenames in all subdirectories"
   ]
  },
  {
   "cell_type": "code",
   "execution_count": 4,
   "metadata": {},
   "outputs": [],
   "source": [
    "!find . -type f -name '*.fastq' -exec basename  {} \\; >../readfnames.txt"
   ]
  },
  {
   "cell_type": "markdown",
   "metadata": {},
   "source": [
    "get corresponding text list of all read counts in all subdirectories, knowing in this format 4 lines=1 read"
   ]
  },
  {
   "cell_type": "code",
   "execution_count": 5,
   "metadata": {},
   "outputs": [],
   "source": [
    "!find . -type f -name '*.fastq' -exec awk '{count++} END {print count/4}'  {} \\; >../readcounts.txt"
   ]
  },
  {
   "cell_type": "markdown",
   "metadata": {},
   "source": [
    "Even though sequencing service performed adapter trimming, will still check for adapter contamination. <i>Can be present at 3' end</i>"
   ]
  },
  {
   "cell_type": "markdown",
   "metadata": {},
   "source": [
    "Adapters as follows- unsure which is appropriate for our samples:\n",
    "\n",
    "<b>Sequences for Nextera, Illumina Prep, and Illumina PCR Kits</b>\n",
    "\n",
    "<u>The following sequence is used for Read 1 and Read 2 adapter trimming</u>\n",
    "CTGTCTCTTATACACATCT\n",
    "\n",
    "<u>Illumina DNA PCR-Free Prep, Tagmentation Adapter Trimming</u>\n",
    "The following sequence includes two adapter sequences joined by a plus sign. When performing adapter trimming, the software independently assesses each adapter for trimming.\n",
    "CTGTCTCTTATACACATCT+ATGTGTATAAGAGACA\n",
    "\n",
    "<u>Nextera Mate Pair Adapter Trimming</u>\n",
    "The following sequence includes two adapter sequences joined by a plus sign. When performing adapter trimming, the software independently assesses each adapter for trimming.\n",
    "CTGTCTCTTATACACATCT+AGATGTGTATAAGAGACAG\n",
    "\n",
    "<u>Nextera Transposase Adapters</u>\n",
    "The transposase adapters are used for Nextera tagmentation. \n",
    "Read 1\n",
    "5′ TCGTCGGCAGCGTCAGATGTGTATAAGAGACAG\n",
    "Read 2\n",
    "5′ GTCTCGTGGGCTCGGAGATGTGTATAAGAGACAG"
   ]
  },
  {
   "cell_type": "markdown",
   "metadata": {},
   "source": [
    "Method 1 approach across all subdirectories:\n",
    "\n",
    "Use grep to search for lines in each file that begin with adapter sequence since DNA reads 5' --> 3'"
   ]
  },
  {
   "cell_type": "code",
   "execution_count": 6,
   "metadata": {},
   "outputs": [],
   "source": [
    "!find . -type f -name '*.fastq' -exec grep -c -e '^CTGTCTCTTATACACATCT' {} \\; >../adaptcontam.txt"
   ]
  },
  {
   "cell_type": "markdown",
   "metadata": {},
   "source": [
    "move copies of all individual zipped and unzipped files into respective folders"
   ]
  },
  {
   "cell_type": "code",
   "execution_count": 4,
   "metadata": {},
   "outputs": [
    {
     "name": "stdout",
     "output_type": "stream",
     "text": [
      "mkdir: raw_data: File exists\n",
      "mkdir: raw_zipped_data: File exists\n",
      "./GL1-17_L001-ds.fd95d0c6e5474c869368265511c325f4/GL1-17_S7_L001_R1_001.fastq.gz\n",
      "./GL1-17_L001-ds.fd95d0c6e5474c869368265511c325f4/GL1-17_S7_L001_R2_001.fastq.gz\n",
      "./GEN-DONOR_L001-ds.f26c0c9e3ba74595b3004c5829eae22a/GEN-DONOR_S14_L001_R2_001.fastq.gz\n",
      "./GEN-DONOR_L001-ds.f26c0c9e3ba74595b3004c5829eae22a/GEN-DONOR_S14_L001_R1_001.fastq.gz\n",
      "./GL1-37_L001-ds.c07b5ea5980d4713ad6f3080f14fd948/GL1-37_S1_L001_R1_001.fastq.gz\n",
      "./GL1-37_L001-ds.c07b5ea5980d4713ad6f3080f14fd948/GL1-37_S1_L001_R2_001.fastq.gz\n",
      "./GL3-shallow_L001-ds.4c63cd4732874456aea31dc17fde84a4/GL3-shallow_S15_L001_R1_001.fastq.gz\n",
      "./GL3-shallow_L001-ds.4c63cd4732874456aea31dc17fde84a4/GL3-shallow_S15_L001_R2_001.fastq.gz\n",
      "./GL4-25_L001-ds.bfffd0dce6524291bbac7218724af67e/GL4-25_S3_L001_R2_001.fastq.gz\n",
      "./GL4-25_L001-ds.bfffd0dce6524291bbac7218724af67e/GL4-25_S3_L001_R1_001.fastq.gz\n",
      "./GL4-40_L001-ds.d286c42813a547a78cd2ccfe93f3f502/GL4-40_S5_L001_R1_001.fastq.gz\n",
      "./GL4-40_L001-ds.d286c42813a547a78cd2ccfe93f3f502/GL4-40_S5_L001_R2_001.fastq.gz\n",
      "./MOCK-STAG_L001-ds.1795f6074c5e4dd29557ccc9c4bf1710/MOCK-STAG_S12_L001_R1_001.fastq.gz\n",
      "./MOCK-STAG_L001-ds.1795f6074c5e4dd29557ccc9c4bf1710/MOCK-STAG_S12_L001_R2_001.fastq.gz\n",
      "./GL2-23_L001-ds.06e3131a3d3a46cb97fbae3dc2741afb/GL2-23_S6_L001_R1_001.fastq.gz\n",
      "./GL2-23_L001-ds.06e3131a3d3a46cb97fbae3dc2741afb/GL2-23_S6_L001_R2_001.fastq.gz\n",
      "./GL4-18_L001-ds.6bcf48fab9d2489394a1c172e7eeb13c/GL4-18_S4_L001_R1_001.fastq.gz\n",
      "./GL4-18_L001-ds.6bcf48fab9d2489394a1c172e7eeb13c/GL4-18_S4_L001_R2_001.fastq.gz\n",
      "./GL3-mid_L001-ds.23f890289b1644a3a3f9ab8da3ddbcaf/GL3-mid_S13_L001_R1_001.fastq.gz\n",
      "./GL3-mid_L001-ds.23f890289b1644a3a3f9ab8da3ddbcaf/GL3-mid_S13_L001_R2_001.fastq.gz\n",
      "./tr-blk_L001-ds.9c18eba091da456dbd4a66ab70fab12b/tr-blk_S9_L001_R1_001.fastq.gz\n",
      "./tr-blk_L001-ds.9c18eba091da456dbd4a66ab70fab12b/tr-blk_S9_L001_R2_001.fastq.gz\n",
      "./GL2-17_L001-ds.0d2468494d9e45eeb2d27c431ecc0a17/GL2-17_S11_L001_R2_001.fastq.gz\n",
      "./GL2-17_L001-ds.0d2468494d9e45eeb2d27c431ecc0a17/GL2-17_S11_L001_R1_001.fastq.gz\n",
      "./GL2-40_L001-ds.b2eb655397b3424db086624e84646740/GL2-40_S8_L001_R2_001.fastq.gz\n",
      "./GL2-40_L001-ds.b2eb655397b3424db086624e84646740/GL2-40_S8_L001_R1_001.fastq.gz\n",
      "./GL3-deep_L001-ds.aa606fb5e5934279b25575191583bc01/GL3-deep_S2_L001_R2_001.fastq.gz\n",
      "./GL3-deep_L001-ds.aa606fb5e5934279b25575191583bc01/GL3-deep_S2_L001_R1_001.fastq.gz\n",
      "./MOCK-EVEN_L001-ds.9831de8f7fc74e79b602152a709ba739/MOCK-EVEN_S10_L001_R2_001.fastq.gz\n",
      "./MOCK-EVEN_L001-ds.9831de8f7fc74e79b602152a709ba739/MOCK-EVEN_S10_L001_R1_001.fastq.gz\n",
      "./GL1-17_L001-ds.fd95d0c6e5474c869368265511c325f4/GL1-17_S7_L001_R2_001.fastq\n",
      "./GL1-17_L001-ds.fd95d0c6e5474c869368265511c325f4/GL1-17_S7_L001_R1_001.fastq\n",
      "./GEN-DONOR_L001-ds.f26c0c9e3ba74595b3004c5829eae22a/GEN-DONOR_S14_L001_R2_001.fastq\n",
      "./GEN-DONOR_L001-ds.f26c0c9e3ba74595b3004c5829eae22a/GEN-DONOR_S14_L001_R1_001.fastq\n",
      "./GL1-37_L001-ds.c07b5ea5980d4713ad6f3080f14fd948/GL1-37_S1_L001_R2_001.fastq\n",
      "./GL1-37_L001-ds.c07b5ea5980d4713ad6f3080f14fd948/GL1-37_S1_L001_R1_001.fastq\n",
      "./GL3-shallow_L001-ds.4c63cd4732874456aea31dc17fde84a4/GL3-shallow_S15_L001_R2_001.fastq\n",
      "./GL3-shallow_L001-ds.4c63cd4732874456aea31dc17fde84a4/GL3-shallow_S15_L001_R1_001.fastq\n",
      "./GL4-25_L001-ds.bfffd0dce6524291bbac7218724af67e/GL4-25_S3_L001_R1_001.fastq\n",
      "./GL4-25_L001-ds.bfffd0dce6524291bbac7218724af67e/GL4-25_S3_L001_R2_001.fastq\n",
      "./GL4-40_L001-ds.d286c42813a547a78cd2ccfe93f3f502/GL4-40_S5_L001_R1_001.fastq\n",
      "./GL4-40_L001-ds.d286c42813a547a78cd2ccfe93f3f502/GL4-40_S5_L001_R2_001.fastq\n",
      "./MOCK-STAG_L001-ds.1795f6074c5e4dd29557ccc9c4bf1710/MOCK-STAG_S12_L001_R1_001.fastq\n",
      "./MOCK-STAG_L001-ds.1795f6074c5e4dd29557ccc9c4bf1710/MOCK-STAG_S12_L001_R2_001.fastq\n",
      "./GL2-23_L001-ds.06e3131a3d3a46cb97fbae3dc2741afb/GL2-23_S6_L001_R1_001.fastq\n",
      "./GL2-23_L001-ds.06e3131a3d3a46cb97fbae3dc2741afb/GL2-23_S6_L001_R2_001.fastq\n",
      "./GL4-18_L001-ds.6bcf48fab9d2489394a1c172e7eeb13c/GL4-18_S4_L001_R1_001.fastq\n",
      "./GL4-18_L001-ds.6bcf48fab9d2489394a1c172e7eeb13c/GL4-18_S4_L001_R2_001.fastq\n",
      "./GL3-mid_L001-ds.23f890289b1644a3a3f9ab8da3ddbcaf/GL3-mid_S13_L001_R2_001.fastq\n",
      "./GL3-mid_L001-ds.23f890289b1644a3a3f9ab8da3ddbcaf/GL3-mid_S13_L001_R1_001.fastq\n",
      "./tr-blk_L001-ds.9c18eba091da456dbd4a66ab70fab12b/tr-blk_S9_L001_R1_001.fastq\n",
      "./tr-blk_L001-ds.9c18eba091da456dbd4a66ab70fab12b/tr-blk_S9_L001_R2_001.fastq\n",
      "./GL2-17_L001-ds.0d2468494d9e45eeb2d27c431ecc0a17/GL2-17_S11_L001_R1_001.fastq\n",
      "./GL2-17_L001-ds.0d2468494d9e45eeb2d27c431ecc0a17/GL2-17_S11_L001_R2_001.fastq\n",
      "./GL2-40_L001-ds.b2eb655397b3424db086624e84646740/GL2-40_S8_L001_R1_001.fastq\n",
      "./GL2-40_L001-ds.b2eb655397b3424db086624e84646740/GL2-40_S8_L001_R2_001.fastq\n",
      "./GL3-deep_L001-ds.aa606fb5e5934279b25575191583bc01/GL3-deep_S2_L001_R1_001.fastq\n",
      "./GL3-deep_L001-ds.aa606fb5e5934279b25575191583bc01/GL3-deep_S2_L001_R2_001.fastq\n",
      "./MOCK-EVEN_L001-ds.9831de8f7fc74e79b602152a709ba739/MOCK-EVEN_S10_L001_R2_001.fastq\n",
      "./MOCK-EVEN_L001-ds.9831de8f7fc74e79b602152a709ba739/MOCK-EVEN_S10_L001_R1_001.fastq\n"
     ]
    }
   ],
   "source": [
    "chdir(\"..\")\n",
    "!mkdir raw_data\n",
    "!mkdir raw_zipped_data\n",
    "chdir(\"FASTQ_Generation_2020-12-19_22_20_26Z-355373022\")\n",
    "!find . -mindepth 2 -type f -name '*.gz' -print -exec mv {} ../raw_zipped_data \\;\n",
    "!find . -mindepth 2 -type f -print -exec mv {} ../raw_data \\;"
   ]
  },
  {
   "cell_type": "markdown",
   "metadata": {},
   "source": [
    "create the directory for fast qc quality control step... Calculating the number/length of reads before quality control. "
   ]
  },
  {
   "cell_type": "code",
   "execution_count": 7,
   "metadata": {},
   "outputs": [
    {
     "name": "stdout",
     "output_type": "stream",
     "text": [
      "shell-init: error retrieving current directory: getcwd: cannot access parent directories: Operation not permitted\r\n",
      "pwd: error retrieving current directory: getcwd: cannot access parent directories: Operation not permitted\r\n",
      "pwd: error retrieving current directory: getcwd: cannot access parent directories: Operation not permitted\r\n"
     ]
    }
   ],
   "source": [
    "!pwd"
   ]
  },
  {
   "cell_type": "markdown",
   "metadata": {},
   "source": [
    "go through each raw data fastq file and enumerate total low quality read flags (%) per file. Then do read counts per file. Note that the single carrot overwrites file and double carrot appends to file"
   ]
  },
  {
   "cell_type": "code",
   "execution_count": 5,
   "metadata": {},
   "outputs": [
    {
     "ename": "FileNotFoundError",
     "evalue": "[Errno 2] No such file or directory: '../raw_data'",
     "output_type": "error",
     "traceback": [
      "\u001b[0;31m---------------------------------------------------------------------------\u001b[0m",
      "\u001b[0;31mFileNotFoundError\u001b[0m                         Traceback (most recent call last)",
      "\u001b[0;32m<ipython-input-5-cbd146bc09bd>\u001b[0m in \u001b[0;36m<module>\u001b[0;34m\u001b[0m\n\u001b[0;32m----> 1\u001b[0;31m \u001b[0mchdir\u001b[0m\u001b[0;34m(\u001b[0m\u001b[0;34m\"../raw_data\"\u001b[0m\u001b[0;34m)\u001b[0m\u001b[0;34m\u001b[0m\u001b[0;34m\u001b[0m\u001b[0m\n\u001b[0m\u001b[1;32m      2\u001b[0m \u001b[0mget_ipython\u001b[0m\u001b[0;34m(\u001b[0m\u001b[0;34m)\u001b[0m\u001b[0;34m.\u001b[0m\u001b[0msystem\u001b[0m\u001b[0;34m(\u001b[0m\u001b[0;34m\"printf 'File Name\\\\tQuality Flag\\\\n' > ../basequalities.txt\"\u001b[0m\u001b[0;34m)\u001b[0m\u001b[0;34m\u001b[0m\u001b[0;34m\u001b[0m\u001b[0m\n\u001b[1;32m      3\u001b[0m \u001b[0mget_ipython\u001b[0m\u001b[0;34m(\u001b[0m\u001b[0;34m)\u001b[0m\u001b[0;34m.\u001b[0m\u001b[0msystem\u001b[0m\u001b[0;34m(\u001b[0m\u001b[0;34m\"for fn in *.fastq; do printf $fn; grep -o '%' $fn | wc -l;  done >> ../basequalities.txt\"\u001b[0m\u001b[0;34m)\u001b[0m\u001b[0;34m\u001b[0m\u001b[0;34m\u001b[0m\u001b[0m\n",
      "\u001b[0;31mFileNotFoundError\u001b[0m: [Errno 2] No such file or directory: '../raw_data'"
     ]
    }
   ],
   "source": [
    "chdir(\"../raw_data\")\n",
    "!printf 'File Name\\tQuality Flag\\n' > ../basequalities.txt\n",
    "!for fn in *.fastq; do printf $fn; grep -o '%' $fn | wc -l;  done >> ../basequalities.txt"
   ]
  },
  {
   "cell_type": "markdown",
   "metadata": {},
   "source": [
    "Method 2 way of enumerating reads and looking for adapter contamination- doing once all files dumped in one directory allows file nams and reads to simultaneously be retrieved."
   ]
  },
  {
   "cell_type": "code",
   "execution_count": 18,
   "metadata": {},
   "outputs": [],
   "source": [
    "!printf 'File Name\\tRead Count\\n' > ../batchreadcounts.txt\n",
    "!for fn in *.fastq; do printf $fn; printf '\\t'; cat $fn | awk '{count++} END {print count/4}'; done >> ../batchreadcounts.txt\n",
    "!printf 'File Name\\tAdapter Contamination Count\\n' > ../batchadaptcontam.txt\n",
    "!for fn in *.fastq; do printf $fn; printf '\\t'; cat $fn | grep -c -e '^CTGTCTCTTATACACATCT'; done >> ../batchadaptcontam.txt"
   ]
  },
  {
   "cell_type": "markdown",
   "metadata": {},
   "source": [
    "calculate the average read length per file using awk- remember UNIX is base 1 (not base 0). Example: if NR is 1, 1-2 is -1 and -1 mod 4 is -1, which is false, and line is skipped. if NR is 2, 2-2 is 0, and 0 mod 4 is zero which is true. Using mod 4 will start at second line (sequence), then go every 4 lines.\n",
    "\n",
    "Also find the minimum read length in each file. To do so, set variable min to the max. read length (250) and replace if length of read is less than previous min. "
   ]
  },
  {
   "cell_type": "code",
   "execution_count": 20,
   "metadata": {},
   "outputs": [],
   "source": [
    "!printf 'File Name\\tMinimum Read Length\\tAverage Sequence Length\\n' > ../averagereadlen.txt\n",
    "!for fn in *.fastq; do printf $fn; printf \"\\t\"; awk 'BEGIN {min = 250} !((NR-2) % 4) {sum+=length($0)} !((NR-2) %4) {if (length($0) < min) min=length($0)} END {printf min; printf \"\\t\"; printf sum/(NR/4); printf \"\\n\"}' $fn; done >> ../averagereadlen.txt"
   ]
  },
  {
   "cell_type": "markdown",
   "metadata": {},
   "source": [
    "run fastQC"
   ]
  },
  {
   "cell_type": "code",
   "execution_count": 21,
   "metadata": {},
   "outputs": [
    {
     "name": "stdout",
     "output_type": "stream",
     "text": [
      "Started analysis of GEN-DONOR_S14_L001_R1_001.fastq\n",
      "Approx 5% complete for GEN-DONOR_S14_L001_R1_001.fastq\n",
      "Approx 10% complete for GEN-DONOR_S14_L001_R1_001.fastq\n",
      "Started analysis of GEN-DONOR_S14_L001_R2_001.fastq\n",
      "Approx 15% complete for GEN-DONOR_S14_L001_R1_001.fastq\n",
      "Approx 5% complete for GEN-DONOR_S14_L001_R2_001.fastq\n",
      "Approx 20% complete for GEN-DONOR_S14_L001_R1_001.fastq\n",
      "Approx 10% complete for GEN-DONOR_S14_L001_R2_001.fastq\n",
      "Approx 25% complete for GEN-DONOR_S14_L001_R1_001.fastq\n",
      "Approx 15% complete for GEN-DONOR_S14_L001_R2_001.fastq\n",
      "Started analysis of GL1-17_S7_L001_R1_001.fastq\n",
      "Approx 30% complete for GEN-DONOR_S14_L001_R1_001.fastq\n",
      "Approx 5% complete for GL1-17_S7_L001_R1_001.fastq\n",
      "Approx 20% complete for GEN-DONOR_S14_L001_R2_001.fastq\n",
      "Approx 10% complete for GL1-17_S7_L001_R1_001.fastq\n",
      "Approx 25% complete for GEN-DONOR_S14_L001_R2_001.fastq\n",
      "Approx 15% complete for GL1-17_S7_L001_R1_001.fastq\n",
      "Approx 35% complete for GEN-DONOR_S14_L001_R1_001.fastq\n",
      "Approx 40% complete for GEN-DONOR_S14_L001_R1_001.fastq\n",
      "Approx 20% complete for GL1-17_S7_L001_R1_001.fastq\n",
      "Approx 30% complete for GEN-DONOR_S14_L001_R2_001.fastq\n",
      "Started analysis of GL1-17_S7_L001_R2_001.fastq\n",
      "Approx 25% complete for GL1-17_S7_L001_R1_001.fastq\n",
      "Approx 5% complete for GL1-17_S7_L001_R2_001.fastq\n",
      "Approx 35% complete for GEN-DONOR_S14_L001_R2_001.fastq\n",
      "Approx 45% complete for GEN-DONOR_S14_L001_R1_001.fastq\n",
      "Approx 30% complete for GL1-17_S7_L001_R1_001.fastq\n",
      "Approx 10% complete for GL1-17_S7_L001_R2_001.fastq\n",
      "Approx 15% complete for GL1-17_S7_L001_R2_001.fastq\n",
      "Approx 40% complete for GEN-DONOR_S14_L001_R2_001.fastq\n",
      "Approx 35% complete for GL1-17_S7_L001_R1_001.fastq\n",
      "Approx 20% complete for GL1-17_S7_L001_R2_001.fastq\n",
      "Approx 50% complete for GEN-DONOR_S14_L001_R1_001.fastq\n",
      "Approx 45% complete for GEN-DONOR_S14_L001_R2_001.fastq\n",
      "Approx 40% complete for GL1-17_S7_L001_R1_001.fastq\n",
      "Approx 25% complete for GL1-17_S7_L001_R2_001.fastq\n",
      "Approx 55% complete for GEN-DONOR_S14_L001_R1_001.fastq\n",
      "Approx 45% complete for GL1-17_S7_L001_R1_001.fastq\n",
      "Approx 50% complete for GEN-DONOR_S14_L001_R2_001.fastq\n",
      "Approx 30% complete for GL1-17_S7_L001_R2_001.fastq\n",
      "Approx 60% complete for GEN-DONOR_S14_L001_R1_001.fastq\n",
      "Approx 50% complete for GL1-17_S7_L001_R1_001.fastq\n",
      "Approx 35% complete for GL1-17_S7_L001_R2_001.fastq\n",
      "Approx 55% complete for GEN-DONOR_S14_L001_R2_001.fastq\n",
      "Approx 55% complete for GL1-17_S7_L001_R1_001.fastq\n",
      "Approx 40% complete for GL1-17_S7_L001_R2_001.fastq\n",
      "Approx 60% complete for GEN-DONOR_S14_L001_R2_001.fastq\n",
      "Approx 65% complete for GEN-DONOR_S14_L001_R1_001.fastq\n",
      "Approx 60% complete for GL1-17_S7_L001_R1_001.fastq\n",
      "Approx 45% complete for GL1-17_S7_L001_R2_001.fastq\n",
      "Approx 70% complete for GEN-DONOR_S14_L001_R1_001.fastq\n",
      "Approx 65% complete for GEN-DONOR_S14_L001_R2_001.fastq\n",
      "Approx 65% complete for GL1-17_S7_L001_R1_001.fastq\n",
      "Approx 50% complete for GL1-17_S7_L001_R2_001.fastq\n",
      "Approx 75% complete for GEN-DONOR_S14_L001_R1_001.fastq\n",
      "Approx 70% complete for GL1-17_S7_L001_R1_001.fastq\n",
      "Approx 70% complete for GEN-DONOR_S14_L001_R2_001.fastq\n",
      "Approx 55% complete for GL1-17_S7_L001_R2_001.fastq\n",
      "Approx 75% complete for GL1-17_S7_L001_R1_001.fastq\n",
      "Approx 80% complete for GEN-DONOR_S14_L001_R1_001.fastq\n",
      "Approx 60% complete for GL1-17_S7_L001_R2_001.fastq\n",
      "Approx 75% complete for GEN-DONOR_S14_L001_R2_001.fastq\n",
      "Approx 65% complete for GL1-17_S7_L001_R2_001.fastq\n",
      "Approx 85% complete for GEN-DONOR_S14_L001_R1_001.fastq\n",
      "Approx 80% complete for GL1-17_S7_L001_R1_001.fastq\n",
      "Approx 80% complete for GEN-DONOR_S14_L001_R2_001.fastq\n",
      "Approx 85% complete for GL1-17_S7_L001_R1_001.fastq\n",
      "Approx 70% complete for GL1-17_S7_L001_R2_001.fastq\n",
      "Approx 90% complete for GEN-DONOR_S14_L001_R1_001.fastq\n",
      "Approx 85% complete for GEN-DONOR_S14_L001_R2_001.fastq\n",
      "Approx 90% complete for GL1-17_S7_L001_R1_001.fastq\n",
      "Approx 75% complete for GL1-17_S7_L001_R2_001.fastq\n",
      "Approx 95% complete for GL1-17_S7_L001_R1_001.fastq\n",
      "Approx 90% complete for GEN-DONOR_S14_L001_R2_001.fastq\n",
      "Approx 95% complete for GEN-DONOR_S14_L001_R1_001.fastq\n",
      "Approx 80% complete for GL1-17_S7_L001_R2_001.fastq\n",
      "Analysis complete for GL1-17_S7_L001_R1_001.fastq\n",
      "Analysis complete for GEN-DONOR_S14_L001_R1_001.fastq\n",
      "Approx 85% complete for GL1-17_S7_L001_R2_001.fastq\n",
      "Approx 95% complete for GEN-DONOR_S14_L001_R2_001.fastq\n",
      "Approx 90% complete for GL1-17_S7_L001_R2_001.fastq\n",
      "Analysis complete for GEN-DONOR_S14_L001_R2_001.fastq\n",
      "Approx 95% complete for GL1-17_S7_L001_R2_001.fastq\n",
      "Analysis complete for GL1-17_S7_L001_R2_001.fastq\n",
      "Started analysis of GL1-37_S1_L001_R1_001.fastq\n",
      "Approx 5% complete for GL1-37_S1_L001_R1_001.fastq\n",
      "Approx 10% complete for GL1-37_S1_L001_R1_001.fastq\n",
      "Approx 15% complete for GL1-37_S1_L001_R1_001.fastq\n",
      "Approx 20% complete for GL1-37_S1_L001_R1_001.fastq\n",
      "Approx 25% complete for GL1-37_S1_L001_R1_001.fastq\n",
      "Approx 30% complete for GL1-37_S1_L001_R1_001.fastq\n",
      "Approx 35% complete for GL1-37_S1_L001_R1_001.fastq\n",
      "Approx 40% complete for GL1-37_S1_L001_R1_001.fastq\n",
      "Approx 45% complete for GL1-37_S1_L001_R1_001.fastq\n",
      "Approx 50% complete for GL1-37_S1_L001_R1_001.fastq\n",
      "Started analysis of GL1-37_S1_L001_R2_001.fastq\n",
      "Approx 55% complete for GL1-37_S1_L001_R1_001.fastq\n",
      "Approx 5% complete for GL1-37_S1_L001_R2_001.fastq\n",
      "Approx 60% complete for GL1-37_S1_L001_R1_001.fastq\n",
      "Approx 10% complete for GL1-37_S1_L001_R2_001.fastq\n",
      "Approx 65% complete for GL1-37_S1_L001_R1_001.fastq\n",
      "Approx 15% complete for GL1-37_S1_L001_R2_001.fastq\n",
      "Approx 20% complete for GL1-37_S1_L001_R2_001.fastq\n",
      "Approx 70% complete for GL1-37_S1_L001_R1_001.fastq\n",
      "Started analysis of GL2-17_S11_L001_R1_001.fastq\n",
      "Approx 75% complete for GL1-37_S1_L001_R1_001.fastq\n",
      "Approx 25% complete for GL1-37_S1_L001_R2_001.fastq\n",
      "Approx 5% complete for GL2-17_S11_L001_R1_001.fastq\n",
      "Approx 80% complete for GL1-37_S1_L001_R1_001.fastq\n",
      "Approx 30% complete for GL1-37_S1_L001_R2_001.fastq\n",
      "Approx 10% complete for GL2-17_S11_L001_R1_001.fastq\n",
      "Approx 35% complete for GL1-37_S1_L001_R2_001.fastq\n",
      "Approx 85% complete for GL1-37_S1_L001_R1_001.fastq\n",
      "Approx 15% complete for GL2-17_S11_L001_R1_001.fastq\n",
      "Approx 40% complete for GL1-37_S1_L001_R2_001.fastq\n",
      "Approx 90% complete for GL1-37_S1_L001_R1_001.fastq\n",
      "Approx 20% complete for GL2-17_S11_L001_R1_001.fastq\n",
      "Approx 25% complete for GL2-17_S11_L001_R1_001.fastq\n",
      "Approx 95% complete for GL1-37_S1_L001_R1_001.fastq\n",
      "Approx 45% complete for GL1-37_S1_L001_R2_001.fastq\n",
      "Analysis complete for GL1-37_S1_L001_R1_001.fastq\n",
      "Approx 30% complete for GL2-17_S11_L001_R1_001.fastq\n",
      "Approx 50% complete for GL1-37_S1_L001_R2_001.fastq\n",
      "Approx 35% complete for GL2-17_S11_L001_R1_001.fastq\n",
      "Approx 55% complete for GL1-37_S1_L001_R2_001.fastq\n",
      "Approx 40% complete for GL2-17_S11_L001_R1_001.fastq\n",
      "Approx 60% complete for GL1-37_S1_L001_R2_001.fastq\n",
      "Approx 45% complete for GL2-17_S11_L001_R1_001.fastq\n",
      "Started analysis of GL2-17_S11_L001_R2_001.fastq\n",
      "Approx 50% complete for GL2-17_S11_L001_R1_001.fastq\n",
      "Approx 65% complete for GL1-37_S1_L001_R2_001.fastq\n",
      "Approx 5% complete for GL2-17_S11_L001_R2_001.fastq\n",
      "Approx 55% complete for GL2-17_S11_L001_R1_001.fastq\n",
      "Approx 10% complete for GL2-17_S11_L001_R2_001.fastq\n",
      "Approx 70% complete for GL1-37_S1_L001_R2_001.fastq\n",
      "Approx 15% complete for GL2-17_S11_L001_R2_001.fastq\n",
      "Approx 60% complete for GL2-17_S11_L001_R1_001.fastq\n",
      "Approx 20% complete for GL2-17_S11_L001_R2_001.fastq\n",
      "Approx 75% complete for GL1-37_S1_L001_R2_001.fastq\n",
      "Approx 65% complete for GL2-17_S11_L001_R1_001.fastq\n",
      "Approx 25% complete for GL2-17_S11_L001_R2_001.fastq\n",
      "Approx 80% complete for GL1-37_S1_L001_R2_001.fastq\n",
      "Approx 70% complete for GL2-17_S11_L001_R1_001.fastq\n",
      "Approx 30% complete for GL2-17_S11_L001_R2_001.fastq\n",
      "Approx 85% complete for GL1-37_S1_L001_R2_001.fastq\n",
      "Approx 75% complete for GL2-17_S11_L001_R1_001.fastq\n",
      "Approx 35% complete for GL2-17_S11_L001_R2_001.fastq\n",
      "Approx 90% complete for GL1-37_S1_L001_R2_001.fastq\n",
      "Approx 80% complete for GL2-17_S11_L001_R1_001.fastq\n",
      "Approx 40% complete for GL2-17_S11_L001_R2_001.fastq\n",
      "Approx 95% complete for GL1-37_S1_L001_R2_001.fastq\n",
      "Approx 85% complete for GL2-17_S11_L001_R1_001.fastq\n",
      "Approx 45% complete for GL2-17_S11_L001_R2_001.fastq\n",
      "Analysis complete for GL1-37_S1_L001_R2_001.fastq\n",
      "Approx 50% complete for GL2-17_S11_L001_R2_001.fastq\n",
      "Approx 90% complete for GL2-17_S11_L001_R1_001.fastq\n"
     ]
    },
    {
     "name": "stdout",
     "output_type": "stream",
     "text": [
      "Approx 55% complete for GL2-17_S11_L001_R2_001.fastq\n",
      "Approx 95% complete for GL2-17_S11_L001_R1_001.fastq\n",
      "Approx 60% complete for GL2-17_S11_L001_R2_001.fastq\n",
      "Analysis complete for GL2-17_S11_L001_R1_001.fastq\n",
      "Approx 65% complete for GL2-17_S11_L001_R2_001.fastq\n",
      "Approx 70% complete for GL2-17_S11_L001_R2_001.fastq\n",
      "Approx 75% complete for GL2-17_S11_L001_R2_001.fastq\n",
      "Approx 80% complete for GL2-17_S11_L001_R2_001.fastq\n",
      "Approx 85% complete for GL2-17_S11_L001_R2_001.fastq\n",
      "Approx 90% complete for GL2-17_S11_L001_R2_001.fastq\n",
      "Approx 95% complete for GL2-17_S11_L001_R2_001.fastq\n",
      "Analysis complete for GL2-17_S11_L001_R2_001.fastq\n",
      "Started analysis of GL2-23_S6_L001_R1_001.fastq\n",
      "Approx 5% complete for GL2-23_S6_L001_R1_001.fastq\n",
      "Approx 10% complete for GL2-23_S6_L001_R1_001.fastq\n",
      "Approx 15% complete for GL2-23_S6_L001_R1_001.fastq\n",
      "Approx 20% complete for GL2-23_S6_L001_R1_001.fastq\n",
      "Approx 25% complete for GL2-23_S6_L001_R1_001.fastq\n",
      "Approx 30% complete for GL2-23_S6_L001_R1_001.fastq\n",
      "Started analysis of GL2-23_S6_L001_R2_001.fastq\n",
      "Approx 35% complete for GL2-23_S6_L001_R1_001.fastq\n",
      "Approx 5% complete for GL2-23_S6_L001_R2_001.fastq\n",
      "Approx 40% complete for GL2-23_S6_L001_R1_001.fastq\n",
      "Approx 10% complete for GL2-23_S6_L001_R2_001.fastq\n",
      "Approx 45% complete for GL2-23_S6_L001_R1_001.fastq\n",
      "Approx 15% complete for GL2-23_S6_L001_R2_001.fastq\n",
      "Approx 50% complete for GL2-23_S6_L001_R1_001.fastq\n",
      "Approx 20% complete for GL2-23_S6_L001_R2_001.fastq\n",
      "Approx 25% complete for GL2-23_S6_L001_R2_001.fastq\n",
      "Approx 55% complete for GL2-23_S6_L001_R1_001.fastq\n",
      "Approx 30% complete for GL2-23_S6_L001_R2_001.fastq\n",
      "Approx 60% complete for GL2-23_S6_L001_R1_001.fastq\n",
      "Approx 35% complete for GL2-23_S6_L001_R2_001.fastq\n",
      "Started analysis of GL2-40_S8_L001_R1_001.fastq\n",
      "Approx 65% complete for GL2-23_S6_L001_R1_001.fastq\n",
      "Approx 5% complete for GL2-40_S8_L001_R1_001.fastq\n",
      "Approx 70% complete for GL2-23_S6_L001_R1_001.fastq\n",
      "Approx 40% complete for GL2-23_S6_L001_R2_001.fastq\n",
      "Approx 10% complete for GL2-40_S8_L001_R1_001.fastq\n",
      "Approx 45% complete for GL2-23_S6_L001_R2_001.fastq\n",
      "Approx 75% complete for GL2-23_S6_L001_R1_001.fastq\n",
      "Approx 15% complete for GL2-40_S8_L001_R1_001.fastq\n",
      "Approx 50% complete for GL2-23_S6_L001_R2_001.fastq\n",
      "Approx 20% complete for GL2-40_S8_L001_R1_001.fastq\n",
      "Approx 80% complete for GL2-23_S6_L001_R1_001.fastq\n",
      "Approx 85% complete for GL2-23_S6_L001_R1_001.fastq\n",
      "Approx 55% complete for GL2-23_S6_L001_R2_001.fastq\n",
      "Approx 25% complete for GL2-40_S8_L001_R1_001.fastq\n",
      "Approx 90% complete for GL2-23_S6_L001_R1_001.fastq\n",
      "Approx 60% complete for GL2-23_S6_L001_R2_001.fastq\n",
      "Approx 30% complete for GL2-40_S8_L001_R1_001.fastq\n",
      "Approx 35% complete for GL2-40_S8_L001_R1_001.fastq\n",
      "Approx 95% complete for GL2-23_S6_L001_R1_001.fastq\n",
      "Approx 65% complete for GL2-23_S6_L001_R2_001.fastq\n",
      "Analysis complete for GL2-23_S6_L001_R1_001.fastq\n",
      "Approx 40% complete for GL2-40_S8_L001_R1_001.fastq\n",
      "Approx 70% complete for GL2-23_S6_L001_R2_001.fastq\n",
      "Approx 45% complete for GL2-40_S8_L001_R1_001.fastq\n",
      "Approx 75% complete for GL2-23_S6_L001_R2_001.fastq\n",
      "Approx 50% complete for GL2-40_S8_L001_R1_001.fastq\n",
      "Approx 80% complete for GL2-23_S6_L001_R2_001.fastq\n",
      "Approx 55% complete for GL2-40_S8_L001_R1_001.fastq\n",
      "Approx 85% complete for GL2-23_S6_L001_R2_001.fastq\n",
      "Approx 60% complete for GL2-40_S8_L001_R1_001.fastq\n",
      "Approx 90% complete for GL2-23_S6_L001_R2_001.fastq\n",
      "Approx 65% complete for GL2-40_S8_L001_R1_001.fastq\n",
      "Started analysis of GL2-40_S8_L001_R2_001.fastq\n",
      "Approx 95% complete for GL2-23_S6_L001_R2_001.fastq\n",
      "Approx 5% complete for GL2-40_S8_L001_R2_001.fastq\n",
      "Approx 70% complete for GL2-40_S8_L001_R1_001.fastq\n",
      "Analysis complete for GL2-23_S6_L001_R2_001.fastq\n",
      "Approx 10% complete for GL2-40_S8_L001_R2_001.fastq\n",
      "Approx 75% complete for GL2-40_S8_L001_R1_001.fastq\n",
      "Approx 15% complete for GL2-40_S8_L001_R2_001.fastq\n",
      "Approx 20% complete for GL2-40_S8_L001_R2_001.fastq\n",
      "Approx 80% complete for GL2-40_S8_L001_R1_001.fastq\n",
      "Approx 25% complete for GL2-40_S8_L001_R2_001.fastq\n",
      "Approx 85% complete for GL2-40_S8_L001_R1_001.fastq\n",
      "Approx 30% complete for GL2-40_S8_L001_R2_001.fastq\n",
      "Approx 90% complete for GL2-40_S8_L001_R1_001.fastq\n",
      "Approx 35% complete for GL2-40_S8_L001_R2_001.fastq\n",
      "Approx 95% complete for GL2-40_S8_L001_R1_001.fastq\n",
      "Approx 40% complete for GL2-40_S8_L001_R2_001.fastq\n",
      "Analysis complete for GL2-40_S8_L001_R1_001.fastq\n",
      "Approx 45% complete for GL2-40_S8_L001_R2_001.fastq\n",
      "Approx 50% complete for GL2-40_S8_L001_R2_001.fastq\n",
      "Approx 55% complete for GL2-40_S8_L001_R2_001.fastq\n",
      "Approx 60% complete for GL2-40_S8_L001_R2_001.fastq\n",
      "Approx 65% complete for GL2-40_S8_L001_R2_001.fastq\n",
      "Approx 70% complete for GL2-40_S8_L001_R2_001.fastq\n",
      "Approx 75% complete for GL2-40_S8_L001_R2_001.fastq\n",
      "Approx 80% complete for GL2-40_S8_L001_R2_001.fastq\n",
      "Approx 85% complete for GL2-40_S8_L001_R2_001.fastq\n",
      "Approx 90% complete for GL2-40_S8_L001_R2_001.fastq\n",
      "Approx 95% complete for GL2-40_S8_L001_R2_001.fastq\n",
      "Analysis complete for GL2-40_S8_L001_R2_001.fastq\n",
      "Started analysis of GL3-deep_S2_L001_R1_001.fastq\n",
      "Approx 5% complete for GL3-deep_S2_L001_R1_001.fastq\n",
      "Approx 10% complete for GL3-deep_S2_L001_R1_001.fastq\n",
      "Approx 15% complete for GL3-deep_S2_L001_R1_001.fastq\n",
      "Approx 20% complete for GL3-deep_S2_L001_R1_001.fastq\n",
      "Approx 25% complete for GL3-deep_S2_L001_R1_001.fastq\n",
      "Approx 30% complete for GL3-deep_S2_L001_R1_001.fastq\n",
      "Approx 35% complete for GL3-deep_S2_L001_R1_001.fastq\n",
      "Approx 40% complete for GL3-deep_S2_L001_R1_001.fastq\n",
      "Approx 45% complete for GL3-deep_S2_L001_R1_001.fastq\n",
      "Approx 50% complete for GL3-deep_S2_L001_R1_001.fastq\n",
      "Approx 55% complete for GL3-deep_S2_L001_R1_001.fastq\n",
      "Started analysis of GL3-deep_S2_L001_R2_001.fastq\n",
      "Approx 60% complete for GL3-deep_S2_L001_R1_001.fastq\n",
      "Approx 5% complete for GL3-deep_S2_L001_R2_001.fastq\n",
      "Approx 65% complete for GL3-deep_S2_L001_R1_001.fastq\n",
      "Approx 10% complete for GL3-deep_S2_L001_R2_001.fastq\n",
      "Approx 70% complete for GL3-deep_S2_L001_R1_001.fastq\n",
      "Approx 15% complete for GL3-deep_S2_L001_R2_001.fastq\n",
      "Approx 75% complete for GL3-deep_S2_L001_R1_001.fastq\n",
      "Approx 20% complete for GL3-deep_S2_L001_R2_001.fastq\n",
      "Approx 80% complete for GL3-deep_S2_L001_R1_001.fastq\n",
      "Approx 25% complete for GL3-deep_S2_L001_R2_001.fastq\n",
      "Approx 85% complete for GL3-deep_S2_L001_R1_001.fastq\n",
      "Approx 30% complete for GL3-deep_S2_L001_R2_001.fastq\n",
      "Approx 90% complete for GL3-deep_S2_L001_R1_001.fastq\n",
      "Approx 35% complete for GL3-deep_S2_L001_R2_001.fastq\n",
      "Started analysis of GL3-mid_S13_L001_R1_001.fastq\n",
      "Approx 95% complete for GL3-deep_S2_L001_R1_001.fastq\n",
      "Approx 40% complete for GL3-deep_S2_L001_R2_001.fastq\n",
      "Approx 5% complete for GL3-mid_S13_L001_R1_001.fastq\n",
      "Analysis complete for GL3-deep_S2_L001_R1_001.fastq\n",
      "Approx 10% complete for GL3-mid_S13_L001_R1_001.fastq\n",
      "Approx 45% complete for GL3-deep_S2_L001_R2_001.fastq\n",
      "Approx 15% complete for GL3-mid_S13_L001_R1_001.fastq\n",
      "Approx 50% complete for GL3-deep_S2_L001_R2_001.fastq\n",
      "Approx 20% complete for GL3-mid_S13_L001_R1_001.fastq\n",
      "Approx 55% complete for GL3-deep_S2_L001_R2_001.fastq\n",
      "Approx 25% complete for GL3-mid_S13_L001_R1_001.fastq\n",
      "Approx 30% complete for GL3-mid_S13_L001_R1_001.fastq\n",
      "Approx 60% complete for GL3-deep_S2_L001_R2_001.fastq\n",
      "Approx 35% complete for GL3-mid_S13_L001_R1_001.fastq\n",
      "Approx 40% complete for GL3-mid_S13_L001_R1_001.fastq\n",
      "Approx 65% complete for GL3-deep_S2_L001_R2_001.fastq\n",
      "Approx 45% complete for GL3-mid_S13_L001_R1_001.fastq\n",
      "Approx 70% complete for GL3-deep_S2_L001_R2_001.fastq\n",
      "Approx 50% complete for GL3-mid_S13_L001_R1_001.fastq\n",
      "Started analysis of GL3-mid_S13_L001_R2_001.fastq\n",
      "Approx 55% complete for GL3-mid_S13_L001_R1_001.fastq\n",
      "Approx 75% complete for GL3-deep_S2_L001_R2_001.fastq\n",
      "Approx 5% complete for GL3-mid_S13_L001_R2_001.fastq\n",
      "Approx 60% complete for GL3-mid_S13_L001_R1_001.fastq\n",
      "Approx 10% complete for GL3-mid_S13_L001_R2_001.fastq\n",
      "Approx 80% complete for GL3-deep_S2_L001_R2_001.fastq\n",
      "Approx 65% complete for GL3-mid_S13_L001_R1_001.fastq\n",
      "Approx 15% complete for GL3-mid_S13_L001_R2_001.fastq\n",
      "Approx 70% complete for GL3-mid_S13_L001_R1_001.fastq\n",
      "Approx 85% complete for GL3-deep_S2_L001_R2_001.fastq\n",
      "Approx 20% complete for GL3-mid_S13_L001_R2_001.fastq\n",
      "Approx 75% complete for GL3-mid_S13_L001_R1_001.fastq\n",
      "Approx 25% complete for GL3-mid_S13_L001_R2_001.fastq\n",
      "Approx 80% complete for GL3-mid_S13_L001_R1_001.fastq\n",
      "Approx 90% complete for GL3-deep_S2_L001_R2_001.fastq\n",
      "Approx 30% complete for GL3-mid_S13_L001_R2_001.fastq\n"
     ]
    },
    {
     "name": "stdout",
     "output_type": "stream",
     "text": [
      "Approx 35% complete for GL3-mid_S13_L001_R2_001.fastq\n",
      "Approx 85% complete for GL3-mid_S13_L001_R1_001.fastq\n",
      "Approx 95% complete for GL3-deep_S2_L001_R2_001.fastq\n",
      "Approx 40% complete for GL3-mid_S13_L001_R2_001.fastq\n",
      "Approx 90% complete for GL3-mid_S13_L001_R1_001.fastq\n",
      "Analysis complete for GL3-deep_S2_L001_R2_001.fastq\n",
      "Approx 45% complete for GL3-mid_S13_L001_R2_001.fastq\n",
      "Approx 95% complete for GL3-mid_S13_L001_R1_001.fastq\n",
      "Analysis complete for GL3-mid_S13_L001_R1_001.fastq\n",
      "Approx 50% complete for GL3-mid_S13_L001_R2_001.fastq\n",
      "Approx 55% complete for GL3-mid_S13_L001_R2_001.fastq\n",
      "Approx 60% complete for GL3-mid_S13_L001_R2_001.fastq\n",
      "Approx 65% complete for GL3-mid_S13_L001_R2_001.fastq\n",
      "Approx 70% complete for GL3-mid_S13_L001_R2_001.fastq\n",
      "Approx 75% complete for GL3-mid_S13_L001_R2_001.fastq\n",
      "Approx 80% complete for GL3-mid_S13_L001_R2_001.fastq\n",
      "Approx 85% complete for GL3-mid_S13_L001_R2_001.fastq\n",
      "Approx 90% complete for GL3-mid_S13_L001_R2_001.fastq\n",
      "Approx 95% complete for GL3-mid_S13_L001_R2_001.fastq\n",
      "Analysis complete for GL3-mid_S13_L001_R2_001.fastq\n",
      "Started analysis of GL3-shallow_S15_L001_R1_001.fastq\n",
      "Approx 5% complete for GL3-shallow_S15_L001_R1_001.fastq\n",
      "Approx 10% complete for GL3-shallow_S15_L001_R1_001.fastq\n",
      "Approx 15% complete for GL3-shallow_S15_L001_R1_001.fastq\n",
      "Approx 20% complete for GL3-shallow_S15_L001_R1_001.fastq\n",
      "Approx 25% complete for GL3-shallow_S15_L001_R1_001.fastq\n",
      "Approx 30% complete for GL3-shallow_S15_L001_R1_001.fastq\n",
      "Approx 35% complete for GL3-shallow_S15_L001_R1_001.fastq\n",
      "Approx 40% complete for GL3-shallow_S15_L001_R1_001.fastq\n",
      "Approx 45% complete for GL3-shallow_S15_L001_R1_001.fastq\n",
      "Approx 50% complete for GL3-shallow_S15_L001_R1_001.fastq\n",
      "Approx 55% complete for GL3-shallow_S15_L001_R1_001.fastq\n",
      "Approx 60% complete for GL3-shallow_S15_L001_R1_001.fastq\n",
      "Approx 65% complete for GL3-shallow_S15_L001_R1_001.fastq\n",
      "Approx 70% complete for GL3-shallow_S15_L001_R1_001.fastq\n",
      "Approx 75% complete for GL3-shallow_S15_L001_R1_001.fastq\n",
      "Approx 80% complete for GL3-shallow_S15_L001_R1_001.fastq\n",
      "Approx 85% complete for GL3-shallow_S15_L001_R1_001.fastq\n",
      "Approx 90% complete for GL3-shallow_S15_L001_R1_001.fastq\n",
      "Approx 95% complete for GL3-shallow_S15_L001_R1_001.fastq\n",
      "Started analysis of GL3-shallow_S15_L001_R2_001.fastq\n",
      "Analysis complete for GL3-shallow_S15_L001_R1_001.fastq\n",
      "Approx 5% complete for GL3-shallow_S15_L001_R2_001.fastq\n",
      "Approx 10% complete for GL3-shallow_S15_L001_R2_001.fastq\n",
      "Approx 15% complete for GL3-shallow_S15_L001_R2_001.fastq\n",
      "Approx 20% complete for GL3-shallow_S15_L001_R2_001.fastq\n",
      "Approx 25% complete for GL3-shallow_S15_L001_R2_001.fastq\n",
      "Approx 30% complete for GL3-shallow_S15_L001_R2_001.fastq\n",
      "Approx 35% complete for GL3-shallow_S15_L001_R2_001.fastq\n",
      "Approx 40% complete for GL3-shallow_S15_L001_R2_001.fastq\n",
      "Approx 45% complete for GL3-shallow_S15_L001_R2_001.fastq\n",
      "Approx 50% complete for GL3-shallow_S15_L001_R2_001.fastq\n",
      "Started analysis of GL4-18_S4_L001_R1_001.fastq\n",
      "Approx 55% complete for GL3-shallow_S15_L001_R2_001.fastq\n",
      "Approx 5% complete for GL4-18_S4_L001_R1_001.fastq\n",
      "Approx 60% complete for GL3-shallow_S15_L001_R2_001.fastq\n",
      "Approx 10% complete for GL4-18_S4_L001_R1_001.fastq\n",
      "Approx 65% complete for GL3-shallow_S15_L001_R2_001.fastq\n",
      "Approx 15% complete for GL4-18_S4_L001_R1_001.fastq\n",
      "Approx 20% complete for GL4-18_S4_L001_R1_001.fastq\n",
      "Approx 70% complete for GL3-shallow_S15_L001_R2_001.fastq\n",
      "Approx 25% complete for GL4-18_S4_L001_R1_001.fastq\n",
      "Approx 75% complete for GL3-shallow_S15_L001_R2_001.fastq\n",
      "Approx 30% complete for GL4-18_S4_L001_R1_001.fastq\n",
      "Approx 80% complete for GL3-shallow_S15_L001_R2_001.fastq\n",
      "Approx 35% complete for GL4-18_S4_L001_R1_001.fastq\n",
      "Approx 85% complete for GL3-shallow_S15_L001_R2_001.fastq\n",
      "Approx 40% complete for GL4-18_S4_L001_R1_001.fastq\n",
      "Approx 90% complete for GL3-shallow_S15_L001_R2_001.fastq\n",
      "Started analysis of GL4-18_S4_L001_R2_001.fastq\n",
      "Approx 95% complete for GL3-shallow_S15_L001_R2_001.fastq\n",
      "Approx 5% complete for GL4-18_S4_L001_R2_001.fastq\n",
      "Approx 45% complete for GL4-18_S4_L001_R1_001.fastq\n",
      "Analysis complete for GL3-shallow_S15_L001_R2_001.fastq\n",
      "Approx 10% complete for GL4-18_S4_L001_R2_001.fastq\n",
      "Approx 50% complete for GL4-18_S4_L001_R1_001.fastq\n",
      "Approx 55% complete for GL4-18_S4_L001_R1_001.fastq\n",
      "Approx 15% complete for GL4-18_S4_L001_R2_001.fastq\n",
      "Approx 20% complete for GL4-18_S4_L001_R2_001.fastq\n",
      "Approx 60% complete for GL4-18_S4_L001_R1_001.fastq\n",
      "Approx 25% complete for GL4-18_S4_L001_R2_001.fastq\n",
      "Approx 65% complete for GL4-18_S4_L001_R1_001.fastq\n",
      "Approx 30% complete for GL4-18_S4_L001_R2_001.fastq\n",
      "Approx 70% complete for GL4-18_S4_L001_R1_001.fastq\n",
      "Approx 35% complete for GL4-18_S4_L001_R2_001.fastq\n",
      "Approx 75% complete for GL4-18_S4_L001_R1_001.fastq\n",
      "Approx 40% complete for GL4-18_S4_L001_R2_001.fastq\n",
      "Approx 80% complete for GL4-18_S4_L001_R1_001.fastq\n",
      "Approx 45% complete for GL4-18_S4_L001_R2_001.fastq\n",
      "Approx 50% complete for GL4-18_S4_L001_R2_001.fastq\n",
      "Approx 85% complete for GL4-18_S4_L001_R1_001.fastq\n",
      "Approx 55% complete for GL4-18_S4_L001_R2_001.fastq\n",
      "Approx 90% complete for GL4-18_S4_L001_R1_001.fastq\n",
      "Approx 60% complete for GL4-18_S4_L001_R2_001.fastq\n",
      "Approx 95% complete for GL4-18_S4_L001_R1_001.fastq\n",
      "Analysis complete for GL4-18_S4_L001_R1_001.fastq\n",
      "Approx 65% complete for GL4-18_S4_L001_R2_001.fastq\n",
      "Approx 70% complete for GL4-18_S4_L001_R2_001.fastq\n",
      "Approx 75% complete for GL4-18_S4_L001_R2_001.fastq\n",
      "Approx 80% complete for GL4-18_S4_L001_R2_001.fastq\n",
      "Approx 85% complete for GL4-18_S4_L001_R2_001.fastq\n",
      "Approx 90% complete for GL4-18_S4_L001_R2_001.fastq\n",
      "Approx 95% complete for GL4-18_S4_L001_R2_001.fastq\n",
      "Started analysis of GL4-25_S3_L001_R1_001.fastq\n",
      "Analysis complete for GL4-18_S4_L001_R2_001.fastq\n",
      "Approx 5% complete for GL4-25_S3_L001_R1_001.fastq\n",
      "Approx 10% complete for GL4-25_S3_L001_R1_001.fastq\n",
      "Approx 15% complete for GL4-25_S3_L001_R1_001.fastq\n",
      "Approx 20% complete for GL4-25_S3_L001_R1_001.fastq\n",
      "Approx 25% complete for GL4-25_S3_L001_R1_001.fastq\n",
      "Approx 30% complete for GL4-25_S3_L001_R1_001.fastq\n",
      "Approx 35% complete for GL4-25_S3_L001_R1_001.fastq\n",
      "Approx 40% complete for GL4-25_S3_L001_R1_001.fastq\n",
      "Approx 45% complete for GL4-25_S3_L001_R1_001.fastq\n",
      "Approx 50% complete for GL4-25_S3_L001_R1_001.fastq\n",
      "Approx 55% complete for GL4-25_S3_L001_R1_001.fastq\n",
      "Approx 60% complete for GL4-25_S3_L001_R1_001.fastq\n",
      "Approx 65% complete for GL4-25_S3_L001_R1_001.fastq\n",
      "Approx 70% complete for GL4-25_S3_L001_R1_001.fastq\n",
      "Approx 75% complete for GL4-25_S3_L001_R1_001.fastq\n",
      "Approx 80% complete for GL4-25_S3_L001_R1_001.fastq\n",
      "Approx 85% complete for GL4-25_S3_L001_R1_001.fastq\n",
      "Approx 90% complete for GL4-25_S3_L001_R1_001.fastq\n",
      "Approx 95% complete for GL4-25_S3_L001_R1_001.fastq\n",
      "Analysis complete for GL4-25_S3_L001_R1_001.fastq\n",
      "Started analysis of GL4-25_S3_L001_R2_001.fastq\n",
      "Approx 5% complete for GL4-25_S3_L001_R2_001.fastq\n",
      "Approx 10% complete for GL4-25_S3_L001_R2_001.fastq\n",
      "Approx 15% complete for GL4-25_S3_L001_R2_001.fastq\n",
      "Approx 20% complete for GL4-25_S3_L001_R2_001.fastq\n",
      "Approx 25% complete for GL4-25_S3_L001_R2_001.fastq\n",
      "Approx 30% complete for GL4-25_S3_L001_R2_001.fastq\n",
      "Approx 35% complete for GL4-25_S3_L001_R2_001.fastq\n",
      "Approx 40% complete for GL4-25_S3_L001_R2_001.fastq\n",
      "Approx 45% complete for GL4-25_S3_L001_R2_001.fastq\n",
      "Approx 50% complete for GL4-25_S3_L001_R2_001.fastq\n",
      "Started analysis of GL4-40_S5_L001_R1_001.fastq\n",
      "Approx 55% complete for GL4-25_S3_L001_R2_001.fastq\n",
      "Approx 5% complete for GL4-40_S5_L001_R1_001.fastq\n",
      "Approx 10% complete for GL4-40_S5_L001_R1_001.fastq\n",
      "Approx 60% complete for GL4-25_S3_L001_R2_001.fastq\n",
      "Approx 15% complete for GL4-40_S5_L001_R1_001.fastq\n",
      "Approx 20% complete for GL4-40_S5_L001_R1_001.fastq\n",
      "Approx 65% complete for GL4-25_S3_L001_R2_001.fastq\n",
      "Approx 25% complete for GL4-40_S5_L001_R1_001.fastq\n",
      "Approx 70% complete for GL4-25_S3_L001_R2_001.fastq\n",
      "Approx 30% complete for GL4-40_S5_L001_R1_001.fastq\n",
      "Approx 75% complete for GL4-25_S3_L001_R2_001.fastq\n",
      "Approx 35% complete for GL4-40_S5_L001_R1_001.fastq\n",
      "Approx 80% complete for GL4-25_S3_L001_R2_001.fastq\n",
      "Approx 40% complete for GL4-40_S5_L001_R1_001.fastq\n",
      "Approx 85% complete for GL4-25_S3_L001_R2_001.fastq\n",
      "Approx 45% complete for GL4-40_S5_L001_R1_001.fastq\n",
      "Approx 90% complete for GL4-25_S3_L001_R2_001.fastq\n"
     ]
    },
    {
     "name": "stdout",
     "output_type": "stream",
     "text": [
      "Approx 50% complete for GL4-40_S5_L001_R1_001.fastq\n",
      "Approx 95% complete for GL4-25_S3_L001_R2_001.fastq\n",
      "Approx 55% complete for GL4-40_S5_L001_R1_001.fastq\n",
      "Analysis complete for GL4-25_S3_L001_R2_001.fastq\n",
      "Approx 60% complete for GL4-40_S5_L001_R1_001.fastq\n",
      "Approx 65% complete for GL4-40_S5_L001_R1_001.fastq\n",
      "Approx 70% complete for GL4-40_S5_L001_R1_001.fastq\n",
      "Approx 75% complete for GL4-40_S5_L001_R1_001.fastq\n",
      "Started analysis of GL4-40_S5_L001_R2_001.fastq\n",
      "Approx 80% complete for GL4-40_S5_L001_R1_001.fastq\n",
      "Approx 5% complete for GL4-40_S5_L001_R2_001.fastq\n",
      "Approx 10% complete for GL4-40_S5_L001_R2_001.fastq\n",
      "Approx 85% complete for GL4-40_S5_L001_R1_001.fastq\n",
      "Approx 15% complete for GL4-40_S5_L001_R2_001.fastq\n",
      "Approx 90% complete for GL4-40_S5_L001_R1_001.fastq\n",
      "Approx 20% complete for GL4-40_S5_L001_R2_001.fastq\n",
      "Approx 95% complete for GL4-40_S5_L001_R1_001.fastq\n",
      "Approx 25% complete for GL4-40_S5_L001_R2_001.fastq\n",
      "Analysis complete for GL4-40_S5_L001_R1_001.fastq\n",
      "Approx 30% complete for GL4-40_S5_L001_R2_001.fastq\n",
      "Approx 35% complete for GL4-40_S5_L001_R2_001.fastq\n",
      "Approx 40% complete for GL4-40_S5_L001_R2_001.fastq\n",
      "Approx 45% complete for GL4-40_S5_L001_R2_001.fastq\n",
      "Approx 50% complete for GL4-40_S5_L001_R2_001.fastq\n",
      "Approx 55% complete for GL4-40_S5_L001_R2_001.fastq\n",
      "Approx 60% complete for GL4-40_S5_L001_R2_001.fastq\n",
      "Approx 65% complete for GL4-40_S5_L001_R2_001.fastq\n",
      "Approx 70% complete for GL4-40_S5_L001_R2_001.fastq\n",
      "Approx 75% complete for GL4-40_S5_L001_R2_001.fastq\n",
      "Approx 80% complete for GL4-40_S5_L001_R2_001.fastq\n",
      "Approx 85% complete for GL4-40_S5_L001_R2_001.fastq\n",
      "Approx 90% complete for GL4-40_S5_L001_R2_001.fastq\n",
      "Approx 95% complete for GL4-40_S5_L001_R2_001.fastq\n",
      "Started analysis of MOCK-EVEN_S10_L001_R1_001.fastq\n",
      "Analysis complete for GL4-40_S5_L001_R2_001.fastq\n",
      "Approx 5% complete for MOCK-EVEN_S10_L001_R1_001.fastq\n",
      "Approx 10% complete for MOCK-EVEN_S10_L001_R1_001.fastq\n",
      "Approx 15% complete for MOCK-EVEN_S10_L001_R1_001.fastq\n",
      "Approx 20% complete for MOCK-EVEN_S10_L001_R1_001.fastq\n",
      "Approx 25% complete for MOCK-EVEN_S10_L001_R1_001.fastq\n",
      "Approx 30% complete for MOCK-EVEN_S10_L001_R1_001.fastq\n",
      "Approx 35% complete for MOCK-EVEN_S10_L001_R1_001.fastq\n",
      "Approx 40% complete for MOCK-EVEN_S10_L001_R1_001.fastq\n",
      "Approx 45% complete for MOCK-EVEN_S10_L001_R1_001.fastq\n",
      "Approx 50% complete for MOCK-EVEN_S10_L001_R1_001.fastq\n",
      "Approx 55% complete for MOCK-EVEN_S10_L001_R1_001.fastq\n",
      "Approx 60% complete for MOCK-EVEN_S10_L001_R1_001.fastq\n",
      "Approx 65% complete for MOCK-EVEN_S10_L001_R1_001.fastq\n",
      "Approx 70% complete for MOCK-EVEN_S10_L001_R1_001.fastq\n",
      "Approx 75% complete for MOCK-EVEN_S10_L001_R1_001.fastq\n",
      "Approx 80% complete for MOCK-EVEN_S10_L001_R1_001.fastq\n",
      "Approx 85% complete for MOCK-EVEN_S10_L001_R1_001.fastq\n",
      "Approx 90% complete for MOCK-EVEN_S10_L001_R1_001.fastq\n",
      "Approx 95% complete for MOCK-EVEN_S10_L001_R1_001.fastq\n",
      "Analysis complete for MOCK-EVEN_S10_L001_R1_001.fastq\n",
      "Started analysis of MOCK-EVEN_S10_L001_R2_001.fastq\n",
      "Approx 5% complete for MOCK-EVEN_S10_L001_R2_001.fastq\n",
      "Approx 10% complete for MOCK-EVEN_S10_L001_R2_001.fastq\n",
      "Approx 15% complete for MOCK-EVEN_S10_L001_R2_001.fastq\n",
      "Approx 20% complete for MOCK-EVEN_S10_L001_R2_001.fastq\n",
      "Approx 25% complete for MOCK-EVEN_S10_L001_R2_001.fastq\n",
      "Approx 30% complete for MOCK-EVEN_S10_L001_R2_001.fastq\n",
      "Approx 35% complete for MOCK-EVEN_S10_L001_R2_001.fastq\n",
      "Approx 40% complete for MOCK-EVEN_S10_L001_R2_001.fastq\n",
      "Approx 45% complete for MOCK-EVEN_S10_L001_R2_001.fastq\n",
      "Approx 50% complete for MOCK-EVEN_S10_L001_R2_001.fastq\n",
      "Started analysis of MOCK-STAG_S12_L001_R1_001.fastq\n",
      "Approx 5% complete for MOCK-STAG_S12_L001_R1_001.fastq\n",
      "Approx 55% complete for MOCK-EVEN_S10_L001_R2_001.fastq\n",
      "Approx 10% complete for MOCK-STAG_S12_L001_R1_001.fastq\n",
      "Approx 60% complete for MOCK-EVEN_S10_L001_R2_001.fastq\n",
      "Approx 15% complete for MOCK-STAG_S12_L001_R1_001.fastq\n",
      "Approx 65% complete for MOCK-EVEN_S10_L001_R2_001.fastq\n",
      "Approx 20% complete for MOCK-STAG_S12_L001_R1_001.fastq\n",
      "Approx 70% complete for MOCK-EVEN_S10_L001_R2_001.fastq\n",
      "Approx 25% complete for MOCK-STAG_S12_L001_R1_001.fastq\n",
      "Approx 75% complete for MOCK-EVEN_S10_L001_R2_001.fastq\n",
      "Approx 30% complete for MOCK-STAG_S12_L001_R1_001.fastq\n",
      "Approx 80% complete for MOCK-EVEN_S10_L001_R2_001.fastq\n",
      "Approx 35% complete for MOCK-STAG_S12_L001_R1_001.fastq\n",
      "Approx 85% complete for MOCK-EVEN_S10_L001_R2_001.fastq\n",
      "Approx 40% complete for MOCK-STAG_S12_L001_R1_001.fastq\n",
      "Approx 90% complete for MOCK-EVEN_S10_L001_R2_001.fastq\n",
      "Approx 45% complete for MOCK-STAG_S12_L001_R1_001.fastq\n",
      "Approx 95% complete for MOCK-EVEN_S10_L001_R2_001.fastq\n",
      "Approx 50% complete for MOCK-STAG_S12_L001_R1_001.fastq\n",
      "Analysis complete for MOCK-EVEN_S10_L001_R2_001.fastq\n",
      "Approx 55% complete for MOCK-STAG_S12_L001_R1_001.fastq\n",
      "Approx 60% complete for MOCK-STAG_S12_L001_R1_001.fastq\n",
      "Approx 65% complete for MOCK-STAG_S12_L001_R1_001.fastq\n",
      "Started analysis of MOCK-STAG_S12_L001_R2_001.fastq\n",
      "Approx 70% complete for MOCK-STAG_S12_L001_R1_001.fastq\n",
      "Approx 5% complete for MOCK-STAG_S12_L001_R2_001.fastq\n",
      "Approx 75% complete for MOCK-STAG_S12_L001_R1_001.fastq\n",
      "Approx 10% complete for MOCK-STAG_S12_L001_R2_001.fastq\n",
      "Approx 80% complete for MOCK-STAG_S12_L001_R1_001.fastq\n",
      "Approx 15% complete for MOCK-STAG_S12_L001_R2_001.fastq\n",
      "Approx 85% complete for MOCK-STAG_S12_L001_R1_001.fastq\n",
      "Approx 20% complete for MOCK-STAG_S12_L001_R2_001.fastq\n",
      "Approx 90% complete for MOCK-STAG_S12_L001_R1_001.fastq\n",
      "Approx 25% complete for MOCK-STAG_S12_L001_R2_001.fastq\n",
      "Approx 95% complete for MOCK-STAG_S12_L001_R1_001.fastq\n",
      "Approx 30% complete for MOCK-STAG_S12_L001_R2_001.fastq\n",
      "Analysis complete for MOCK-STAG_S12_L001_R1_001.fastq\n",
      "Approx 35% complete for MOCK-STAG_S12_L001_R2_001.fastq\n",
      "Approx 40% complete for MOCK-STAG_S12_L001_R2_001.fastq\n",
      "Approx 45% complete for MOCK-STAG_S12_L001_R2_001.fastq\n",
      "Approx 50% complete for MOCK-STAG_S12_L001_R2_001.fastq\n",
      "Approx 55% complete for MOCK-STAG_S12_L001_R2_001.fastq\n",
      "Approx 60% complete for MOCK-STAG_S12_L001_R2_001.fastq\n",
      "Started analysis of tr-blk_S9_L001_R1_001.fastq\n",
      "Approx 65% complete for MOCK-STAG_S12_L001_R2_001.fastq\n",
      "Approx 5% complete for tr-blk_S9_L001_R1_001.fastq\n",
      "Approx 10% complete for tr-blk_S9_L001_R1_001.fastq\n",
      "Approx 70% complete for MOCK-STAG_S12_L001_R2_001.fastq\n",
      "Approx 15% complete for tr-blk_S9_L001_R1_001.fastq\n",
      "Approx 20% complete for tr-blk_S9_L001_R1_001.fastq\n",
      "Approx 75% complete for MOCK-STAG_S12_L001_R2_001.fastq\n",
      "Approx 25% complete for tr-blk_S9_L001_R1_001.fastq\n",
      "Approx 30% complete for tr-blk_S9_L001_R1_001.fastq\n",
      "Approx 80% complete for MOCK-STAG_S12_L001_R2_001.fastq\n",
      "Approx 35% complete for tr-blk_S9_L001_R1_001.fastq\n",
      "Approx 40% complete for tr-blk_S9_L001_R1_001.fastq\n",
      "Approx 85% complete for MOCK-STAG_S12_L001_R2_001.fastq\n",
      "Approx 45% complete for tr-blk_S9_L001_R1_001.fastq\n",
      "Approx 50% complete for tr-blk_S9_L001_R1_001.fastq\n",
      "Approx 90% complete for MOCK-STAG_S12_L001_R2_001.fastq\n",
      "Approx 55% complete for tr-blk_S9_L001_R1_001.fastq\n",
      "Approx 60% complete for tr-blk_S9_L001_R1_001.fastq\n",
      "Approx 95% complete for MOCK-STAG_S12_L001_R2_001.fastq\n",
      "Approx 65% complete for tr-blk_S9_L001_R1_001.fastq\n",
      "Approx 70% complete for tr-blk_S9_L001_R1_001.fastq\n",
      "Analysis complete for MOCK-STAG_S12_L001_R2_001.fastq\n",
      "Approx 75% complete for tr-blk_S9_L001_R1_001.fastq\n",
      "Approx 80% complete for tr-blk_S9_L001_R1_001.fastq\n",
      "Approx 85% complete for tr-blk_S9_L001_R1_001.fastq\n",
      "Approx 90% complete for tr-blk_S9_L001_R1_001.fastq\n",
      "Approx 95% complete for tr-blk_S9_L001_R1_001.fastq\n",
      "Analysis complete for tr-blk_S9_L001_R1_001.fastq\n",
      "Started analysis of tr-blk_S9_L001_R2_001.fastq\n",
      "Approx 5% complete for tr-blk_S9_L001_R2_001.fastq\n",
      "Approx 10% complete for tr-blk_S9_L001_R2_001.fastq\n",
      "Approx 15% complete for tr-blk_S9_L001_R2_001.fastq\n",
      "Approx 20% complete for tr-blk_S9_L001_R2_001.fastq\n",
      "Approx 25% complete for tr-blk_S9_L001_R2_001.fastq\n",
      "Approx 30% complete for tr-blk_S9_L001_R2_001.fastq\n",
      "Approx 35% complete for tr-blk_S9_L001_R2_001.fastq\n",
      "Approx 40% complete for tr-blk_S9_L001_R2_001.fastq\n",
      "Approx 45% complete for tr-blk_S9_L001_R2_001.fastq\n",
      "Approx 50% complete for tr-blk_S9_L001_R2_001.fastq\n",
      "Approx 55% complete for tr-blk_S9_L001_R2_001.fastq\n",
      "Approx 60% complete for tr-blk_S9_L001_R2_001.fastq\n",
      "Approx 65% complete for tr-blk_S9_L001_R2_001.fastq\n"
     ]
    },
    {
     "name": "stdout",
     "output_type": "stream",
     "text": [
      "Approx 70% complete for tr-blk_S9_L001_R2_001.fastq\n",
      "Approx 75% complete for tr-blk_S9_L001_R2_001.fastq\n",
      "Approx 80% complete for tr-blk_S9_L001_R2_001.fastq\n",
      "Approx 85% complete for tr-blk_S9_L001_R2_001.fastq\n",
      "Approx 90% complete for tr-blk_S9_L001_R2_001.fastq\n",
      "Approx 95% complete for tr-blk_S9_L001_R2_001.fastq\n",
      "Analysis complete for tr-blk_S9_L001_R2_001.fastq\n"
     ]
    }
   ],
   "source": [
    "chdir(\"..\")\n",
    "!mkdir fastqc_out\n",
    "!fastqc -t 4 raw_data/* -o fastqc_outraw"
   ]
  },
  {
   "cell_type": "markdown",
   "metadata": {},
   "source": [
    "create directory for reads, set sample data type, which can be, for FASTQ (i.e., sequence data with quality information):\n",
    "\n",
    "-FASTQ data with the EMP Protocol format\n",
    "\n",
    "-Multiplexed FASTQ data with barcodes in sequences\n",
    "\n",
    "-FASTQ data in the Casava 1.8 demultiplexed format\n",
    "\n",
    "-Any other FASTQ\n",
    "\n",
    "...for more information see https://docs.qiime2.org/2020.11/tutorials/importing/#sequence-data-with-sequence-quality-information-i-e-fastq"
   ]
  },
  {
   "cell_type": "code",
   "execution_count": 14,
   "metadata": {},
   "outputs": [
    {
     "name": "stdout",
     "output_type": "stream",
     "text": [
      "/Users/ashley/Documents/Research/Gordon'sLab/FGL/amplicon/Qiime2_analyzed_FGL_traps\r\n"
     ]
    }
   ],
   "source": [
    "!pwd"
   ]
  },
  {
   "cell_type": "code",
   "execution_count": 15,
   "metadata": {},
   "outputs": [
    {
     "name": "stdout",
     "output_type": "stream",
     "text": [
      "\u001b[32mImported raw_zipped_data as CasavaOneEightSingleLanePerSampleDirFmt to reads_qza/reads.qza\u001b[0m\r\n"
     ]
    }
   ],
   "source": [
    "!mkdir reads_qza\n",
    "\n",
    "!qiime tools import --type SampleData[PairedEndSequencesWithQuality] \\\n",
    "                   --input-path raw_zipped_data \\\n",
    "                   --output-path reads_qza/reads.qza \\\n",
    "                   --input-format CasavaOneEightSingleLanePerSampleDirFmt"
   ]
  },
  {
   "cell_type": "markdown",
   "metadata": {},
   "source": [
    "Barcode extraction does not need to be done for these samples"
   ]
  },
  {
   "cell_type": "markdown",
   "metadata": {},
   "source": [
    "Trim primers with cutadapt - remove all primers and take out all sequences that don't begin with priemr sequence 16S V4-V5 region bacteria + archaea F = GTGYCAGCMGCCGCGGTAA R = GGACTACNVGGGTWTCTAAT ...ask Jacob for primer names and lit references. The ones i am used to are 515F - GTGYCAGCMGCCGCGGTAA 926R - CCGYCAATTYMTTTRAGTTT "
   ]
  },
  {
   "cell_type": "code",
   "execution_count": 16,
   "metadata": {},
   "outputs": [
    {
     "name": "stdout",
     "output_type": "stream",
     "text": [
      "\u001b[32mSaved SampleData[PairedEndSequencesWithQuality] to: reads_qza/reads_trimmed.qza\u001b[0m\r\n"
     ]
    }
   ],
   "source": [
    "!qiime cutadapt trim-paired --i-demultiplexed-sequences reads_qza/reads.qza \\\n",
    "                           --p-cores 4 \\\n",
    "                           --p-front-f ^GTGYCAGCMGCCGCGGTAA \\\n",
    "                           --p-front-r ^CCGYCAATTYMTTTRAGTTT \\\n",
    "                           --o-trimmed-sequences reads_qza/reads_trimmed.qza"
   ]
  },
  {
   "cell_type": "markdown",
   "metadata": {},
   "source": [
    "according to fastqc, cut-offs for best quality data should be 185 and 160, but Jacob said: f and r reads won't overlap so have to compromise w 230 and 210, and needed to set ee-f and ee-r to 3 and 4, respectively."
   ]
  },
  {
   "cell_type": "code",
   "execution_count": 100,
   "metadata": {
    "scrolled": true
   },
   "outputs": [
    {
     "name": "stdout",
     "output_type": "stream",
     "text": [
      "\u001b[32mSaved FeatureTable[Frequency] to: dada2_output/table.qza\u001b[0m\n",
      "\u001b[32mSaved FeatureData[Sequence] to: dada2_output/representative_sequences.qza\u001b[0m\n",
      "\u001b[32mSaved SampleData[DADA2Stats] to: dada2_output/denoising_stats.qza\u001b[0m\n"
     ]
    }
   ],
   "source": [
    "!qiime dada2 denoise-paired --i-demultiplexed-seqs reads_qza/reads_trimmed.qza \\\n",
    "                           --p-trunc-len-f 205 \\\n",
    "                           --p-trunc-len-r 185 \\\n",
    "                           --p-max-ee-f 3 \\\n",
    "                           --p-max-ee-r 3 \\\n",
    "                           --p-n-threads 4 \\\n",
    "                           --output-dir dada2_output"
   ]
  },
  {
   "cell_type": "markdown",
   "metadata": {},
   "source": [
    "input the feature/frequency table of trimmed/denoise reads from the original pipeline output, then filter feature/frequency table by minimum frequency and number of occurrences- save as \"with chloromito\" so have those sequences after filtration later."
   ]
  },
  {
   "cell_type": "code",
   "execution_count": 101,
   "metadata": {},
   "outputs": [
    {
     "name": "stdout",
     "output_type": "stream",
     "text": [
      "\u001b[32mSaved FeatureTable[Frequency] to: dada2_output/table_filt_wchloromito.qza\u001b[0m\r\n"
     ]
    }
   ],
   "source": [
    "!qiime feature-table filter-features --i-table dada2_output/table.qza \\\n",
    "                                    --p-min-frequency 20 \\\n",
    "                                    --p-min-samples 1 \\\n",
    "                                    --o-filtered-table dada2_output/table_filt_wchloromito.qza"
   ]
  },
  {
   "cell_type": "markdown",
   "metadata": {},
   "source": [
    "input the new filtered feature/frequency table and the feature/sequence table from original pipeline output to make filtered feature/sequence table. Representative sequences comes from the original pipeline (after trimming/denoising). Save as \"with chloromito\" so don't overwrite later"
   ]
  },
  {
   "cell_type": "code",
   "execution_count": 102,
   "metadata": {},
   "outputs": [
    {
     "name": "stdout",
     "output_type": "stream",
     "text": [
      "\u001b[32mSaved FeatureData[Sequence] to: dada2_output/rep_seqs_filt_wchloromito.qza\u001b[0m\r\n"
     ]
    }
   ],
   "source": [
    "!qiime feature-table filter-seqs --i-data dada2_output/representative_sequences.qza \\\n",
    "                                --i-table dada2_output/table_filt_wchloromito.qza \\\n",
    "                                --o-filtered-data dada2_output/rep_seqs_filt_wchloromito.qza"
   ]
  },
  {
   "cell_type": "markdown",
   "metadata": {},
   "source": [
    "denoising stats will be exported as .tsv, rep_seqs_filt will be exported as fasta, and table_filt (the classic OTU table) will be exported as .biom file and need to be converted to .tsv format using biom convert. I am also exporting the unfiltered rep seqs fasta to look in it for the spike. Save exported repseqs and exp filtered table as w chloromito to save if want to look for those things, or will be overwritten later."
   ]
  },
  {
   "cell_type": "code",
   "execution_count": 103,
   "metadata": {},
   "outputs": [
    {
     "name": "stdout",
     "output_type": "stream",
     "text": [
      "\u001b[32mExported dada2_output/denoising_stats.qza as DADA2StatsDirFmt to directory dada2_output/exported_denoising_stats\u001b[0m\n",
      "\u001b[32mExported dada2_output/rep_seqs_filt_wchloromito.qza as DNASequencesDirectoryFormat to directory dada2_output/exported_rep_seq_filt_wchloromito\u001b[0m\n",
      "\u001b[32mExported dada2_output/table_filt_wchloromito.qza as BIOMV210DirFmt to directory dada2_output/exported_table_filt_wchloromito\u001b[0m\n",
      "\u001b[32mExported dada2_output/representative_sequences.qza as DNASequencesDirectoryFormat to directory dada2_output/exported_representative_sequences\u001b[0m\n"
     ]
    }
   ],
   "source": [
    "!qiime tools export --input-path dada2_output/denoising_stats.qza --output-path dada2_output/exported_denoising_stats\n",
    "!qiime tools export --input-path dada2_output/rep_seqs_filt_wchloromito.qza --output-path dada2_output/exported_rep_seq_filt_wchloromito\n",
    "!qiime tools export --input-path dada2_output/table_filt_wchloromito.qza --output-path dada2_output/exported_table_filt_wchloromito\n",
    "!qiime tools export --input-path dada2_output/representative_sequences.qza --output-path dada2_output/exported_representative_sequences\n",
    "\n",
    "!biom convert -i dada2_output/exported_table_filt_wchloromito/feature-table.biom -o dada2_output/exported_table_filt_wchloromito/exp_table_filtwchloromito.tsv --to-tsv"
   ]
  },
  {
   "cell_type": "markdown",
   "metadata": {},
   "source": [
    " create visualizations of completed dada2 outputs"
   ]
  },
  {
   "cell_type": "code",
   "execution_count": 104,
   "metadata": {},
   "outputs": [
    {
     "name": "stdout",
     "output_type": "stream",
     "text": [
      "\u001b[32mSaved Visualization to: reports/stats_dada2.qzv\u001b[0m\n",
      "\u001b[32mSaved Visualization to: reports/table_filt_wchloromito.qzv\u001b[0m\n",
      "\u001b[32mSaved Visualization to: reports/table.qzv\u001b[0m\n",
      "\u001b[32mSaved Visualization to: reports/representative_sequences.qzv\u001b[0m\n",
      "\u001b[32mSaved Visualization to: reports/rep_seqs_filt_wchloromito.qzv\u001b[0m\n"
     ]
    }
   ],
   "source": [
    "!mkdir reports\n",
    "\n",
    "!qiime metadata tabulate --m-input-file dada2_output/denoising_stats.qza --o-visualization reports/stats_dada2.qzv\n",
    "!qiime feature-table summarize --i-table dada2_output/table_filt_wchloromito.qza --o-visualization reports/table_filt_wchloromito.qzv\n",
    "!qiime feature-table summarize --i-table dada2_output/table.qza --o-visualization reports/table.qzv\n",
    "!qiime feature-table tabulate-seqs --i-data dada2_output/representative_sequences.qza --o-visualization reports/representative_sequences.qzv\n",
    "!qiime feature-table tabulate-seqs --i-data dada2_output/rep_seqs_filt_wchloromito.qza --o-visualization reports/rep_seqs_filt_wchloromito.qzv"
   ]
  },
  {
   "cell_type": "code",
   "execution_count": 22,
   "metadata": {},
   "outputs": [
    {
     "name": "stdout",
     "output_type": "stream",
     "text": [
      "/Users/ashley/Documents/Research/Gordon'sLab/FGL/amplicon/Qiime2_analyzed_FGL_traps\r\n"
     ]
    }
   ],
   "source": [
    "!pwd"
   ]
  },
  {
   "cell_type": "code",
   "execution_count": 105,
   "metadata": {},
   "outputs": [
    {
     "name": "stdout",
     "output_type": "stream",
     "text": [
      "\u001b[32mSaved FeatureData[Taxonomy] to: taxa_wchloromito/classification.qza\u001b[0m\r\n"
     ]
    }
   ],
   "source": [
    "!qiime feature-classifier classify-sklearn --i-reads dada2_output/rep_seqs_filt_wchloromito.qza \\\n",
    "                                          --i-classifier $classifier \\\n",
    "                                          --p-n-jobs -2 \\\n",
    "                                          --output-dir taxa_wchloromito  --verbose"
   ]
  },
  {
   "cell_type": "code",
   "execution_count": 106,
   "metadata": {},
   "outputs": [
    {
     "name": "stdout",
     "output_type": "stream",
     "text": [
      "\u001b[32mExported taxa_wchloromito/classification.qza as TSVTaxonomyDirectoryFormat to directory taxa_wchloromito\u001b[0m\r\n"
     ]
    }
   ],
   "source": [
    "!qiime tools export --input-path taxa_wchloromito/classification.qza --output-path taxa_wchloromito"
   ]
  },
  {
   "cell_type": "markdown",
   "metadata": {},
   "source": [
    "input the filtered feature/frequency and taxonomy classifier and exclude chloroplasts and mitochondria, then save as table_filt."
   ]
  },
  {
   "cell_type": "code",
   "execution_count": 107,
   "metadata": {},
   "outputs": [
    {
     "name": "stdout",
     "output_type": "stream",
     "text": [
      "\u001b[32mSaved FeatureTable[Frequency] to: dada2_output/table_filt.qza\u001b[0m\r\n"
     ]
    }
   ],
   "source": [
    "!qiime taxa filter-table --i-table dada2_output/table_filt_wchloromito.qza \\\n",
    "                        --i-taxonomy taxa_wchloromito/classification.qza \\\n",
    "                        --p-exclude Chloroplast,chloroplast,mitochondria,Mitochondria \\\n",
    "                        --o-filtered-table dada2_output/table_filt.qza"
   ]
  },
  {
   "cell_type": "markdown",
   "metadata": {},
   "source": [
    "Once there is a new filtered table, the representative sequences table needs to be re-filtered to reflect the new frequency/feature table. input the feature/sequence and filtered feature/frequency table to make a filtered feature/sequence table. Then reclassify."
   ]
  },
  {
   "cell_type": "code",
   "execution_count": 108,
   "metadata": {},
   "outputs": [
    {
     "name": "stdout",
     "output_type": "stream",
     "text": [
      "\u001b[32mSaved FeatureData[Sequence] to: dada2_output/rep_seqs_filt.qza\u001b[0m\r\n"
     ]
    }
   ],
   "source": [
    "!qiime feature-table filter-seqs --i-data dada2_output/representative_sequences.qza \\\n",
    "                                --i-table dada2_output/table_filt.qza \\\n",
    "                                --o-filtered-data dada2_output/rep_seqs_filt.qza"
   ]
  },
  {
   "cell_type": "code",
   "execution_count": 109,
   "metadata": {},
   "outputs": [
    {
     "name": "stdout",
     "output_type": "stream",
     "text": [
      "\u001b[32mSaved FeatureData[Taxonomy] to: taxa/classification.qza\u001b[0m\r\n"
     ]
    }
   ],
   "source": [
    "!qiime feature-classifier classify-sklearn --i-reads dada2_output/rep_seqs_filt.qza \\\n",
    "                                          --i-classifier $classifier \\\n",
    "                                          --p-n-jobs -2 \\\n",
    "                                          --output-dir taxa  --verbose"
   ]
  },
  {
   "cell_type": "markdown",
   "metadata": {},
   "source": [
    "Export all the chloroplast and mito. free files."
   ]
  },
  {
   "cell_type": "code",
   "execution_count": 110,
   "metadata": {},
   "outputs": [
    {
     "name": "stdout",
     "output_type": "stream",
     "text": [
      "\u001b[32mExported taxa/classification.qza as TSVTaxonomyDirectoryFormat to directory taxa\u001b[0m\n",
      "\u001b[32mExported dada2_output/rep_seqs_filt.qza as DNASequencesDirectoryFormat to directory dada2_output/exported_rep_seq_filt\u001b[0m\n",
      "\u001b[32mExported dada2_output/table_filt.qza as BIOMV210DirFmt to directory dada2_output/exported_table_filt\u001b[0m\n"
     ]
    }
   ],
   "source": [
    "!qiime tools export --input-path taxa/classification.qza --output-path taxa\n",
    "!qiime tools export --input-path dada2_output/rep_seqs_filt.qza --output-path dada2_output/exported_rep_seq_filt\n",
    "!qiime tools export --input-path dada2_output/table_filt.qza --output-path dada2_output/exported_table_filt\n",
    "\n",
    "!biom convert -i dada2_output/exported_table_filt/feature-table.biom -o dada2_output/exported_table_filt/table_filt.tsv --to-tsv\n"
   ]
  },
  {
   "cell_type": "markdown",
   "metadata": {},
   "source": [
    "export all the visualizations to reports"
   ]
  },
  {
   "cell_type": "code",
   "execution_count": 111,
   "metadata": {},
   "outputs": [
    {
     "name": "stdout",
     "output_type": "stream",
     "text": [
      "\u001b[32mSaved Visualization to: reports/table_filt.qzv\u001b[0m\n",
      "\u001b[32mSaved Visualization to: reports/rep_seqs_filt.qzv\u001b[0m\n"
     ]
    }
   ],
   "source": [
    "!qiime feature-table summarize --i-table dada2_output/table_filt.qza --o-visualization reports/table_filt.qzv\n",
    "!qiime feature-table tabulate-seqs --i-data dada2_output/rep_seqs_filt.qza --o-visualization reports/rep_seqs_filt.qzv"
   ]
  },
  {
   "cell_type": "markdown",
   "metadata": {},
   "source": [
    "# Build quick phylogeny with FastTree\n",
    "make multiple-sequence alignment using MAFFT. Export the filtered aligned masked sequences as an aligned fasta file. "
   ]
  },
  {
   "cell_type": "code",
   "execution_count": 112,
   "metadata": {},
   "outputs": [],
   "source": [
    "!mkdir tree_out"
   ]
  },
  {
   "cell_type": "code",
   "execution_count": 113,
   "metadata": {},
   "outputs": [
    {
     "name": "stdout",
     "output_type": "stream",
     "text": [
      "\u001b[32mSaved FeatureData[AlignedSequence] to: tree_out/rep_seqs_filt_aligned.qza\u001b[0m\r\n"
     ]
    }
   ],
   "source": [
    "!qiime alignment mafft --i-sequences dada2_output/rep_seqs_filt.qza \\\n",
    "                      --p-n-threads 4 \\\n",
    "                      --o-alignment tree_out/rep_seqs_filt_aligned.qza"
   ]
  },
  {
   "cell_type": "code",
   "execution_count": 114,
   "metadata": {},
   "outputs": [
    {
     "name": "stdout",
     "output_type": "stream",
     "text": [
      "\u001b[32mSaved FeatureData[AlignedSequence] to: tree_out/rep_seqs_filt_aligned_masked.qza\u001b[0m\r\n"
     ]
    }
   ],
   "source": [
    "!qiime alignment mask --i-alignment tree_out/rep_seqs_filt_aligned.qza \\\n",
    "  --o-masked-alignment tree_out/rep_seqs_filt_aligned_masked.qza"
   ]
  },
  {
   "cell_type": "code",
   "execution_count": 115,
   "metadata": {},
   "outputs": [
    {
     "name": "stdout",
     "output_type": "stream",
     "text": [
      "\u001b[32mExported tree_out/rep_seqs_filt_aligned_masked.qza as AlignedDNASequencesDirectoryFormat to directory tree_out\u001b[0m\r\n"
     ]
    }
   ],
   "source": [
    "!qiime tools export --input-path tree_out/rep_seqs_filt_aligned_masked.qza --output-path tree_out\n",
    "chdir(\"tree_out\")\n",
    "#!ls\n",
    "!mv aligned-dna-sequences.fasta aligned_masked_rep_seqs_filt.fasta\n",
    "chdir(\"..\")"
   ]
  },
  {
   "cell_type": "markdown",
   "metadata": {},
   "source": [
    "## Running FastTree\n",
    "Finally FastTree can be run on this masked multiple-sequence alignment. Export the rooted tree as Newick string:"
   ]
  },
  {
   "cell_type": "code",
   "execution_count": 116,
   "metadata": {},
   "outputs": [
    {
     "name": "stdout",
     "output_type": "stream",
     "text": [
      "\u001b[32mSaved Phylogeny[Unrooted] to: tree_out/rep_seqs_filt_aligned_masked_tree.qza\u001b[0m\r\n"
     ]
    }
   ],
   "source": [
    "!qiime phylogeny fasttree --i-alignment tree_out/rep_seqs_filt_aligned_masked.qza \\\n",
    "                         --p-n-threads 4 \\\n",
    "                         --o-tree tree_out/rep_seqs_filt_aligned_masked_tree"
   ]
  },
  {
   "cell_type": "markdown",
   "metadata": {},
   "source": [
    "Add root to tree...\n",
    "FastTree returns an unrooted tree. One basic way to add a root to a tree is to add it add it at the midpoint of the largest tip-to-tip distance in the tree, which is done with this command:"
   ]
  },
  {
   "cell_type": "code",
   "execution_count": 117,
   "metadata": {},
   "outputs": [
    {
     "name": "stdout",
     "output_type": "stream",
     "text": [
      "\u001b[32mSaved Phylogeny[Rooted] to: tree_out/rep_seqs_filt_aligned_masked_tree_rooted.qza\u001b[0m\r\n"
     ]
    }
   ],
   "source": [
    "!qiime phylogeny midpoint-root --i-tree tree_out/rep_seqs_filt_aligned_masked_tree.qza \\\n",
    "                              --o-rooted-tree tree_out/rep_seqs_filt_aligned_masked_tree_rooted.qza"
   ]
  },
  {
   "cell_type": "code",
   "execution_count": 118,
   "metadata": {},
   "outputs": [
    {
     "name": "stdout",
     "output_type": "stream",
     "text": [
      "\u001b[32mExported tree_out/rep_seqs_filt_aligned_masked_tree_rooted.qza as NewickDirectoryFormat to directory tree_out\u001b[0m\r\n"
     ]
    }
   ],
   "source": [
    "!qiime tools export --input-path tree_out/rep_seqs_filt_aligned_masked_tree_rooted.qza --output-path tree_out"
   ]
  },
  {
   "cell_type": "markdown",
   "metadata": {},
   "source": [
    "Generate rarefaction curves A key quality control step is to plot rarefaction curves for all of your samples to determine if you performed sufficient sequencing. The below command will generate these plots (X is a placeholder for the maximum depth in your dataset, i.e., minimum feature frequency per sample- which you can determine by running the summarize command above).\n",
    "## remember to change x -- p-max-depth"
   ]
  },
  {
   "cell_type": "code",
   "execution_count": 144,
   "metadata": {},
   "outputs": [
    {
     "name": "stdout",
     "output_type": "stream",
     "text": [
      "\u001b[32mSaved Visualization to: rarefaction_curves.qzv\u001b[0m\r\n"
     ]
    }
   ],
   "source": [
    "!qiime diversity alpha-rarefaction \\\n",
    "    --i-table dada2_output/table_filt.qza \\\n",
    "    --p-max-depth 20031 \\\n",
    "    --p-steps 20 \\\n",
    "    --i-phylogeny tree_out/rep_seqs_filt_aligned_masked_tree_rooted.qza \\\n",
    "    --m-metadata-file $mapping_file \\\n",
    "    --o-visualization rarefaction_curves.qzv"
   ]
  },
  {
   "cell_type": "markdown",
   "metadata": {},
   "source": [
    "rarefaction OTU table simulations- produce OTU tables at varying p-max depths to see differences in community composition. ...j/k- only works in QIIME1.\n",
    "\n",
    "\"To perform bootstrap, jackknife, and rarefaction analyses, the otu table must be subsampled (rarefied). This script rarefies, or subsamples, OTU tables. This does not provide curves of diversity by number of sequences in a sample. Rather it creates a series of subsampled OTU tables by random sampling (without replacement) of the input OTU table. Samples that have fewer sequences then the requested rarefaction depth for a given output otu table are omitted from those ouput otu tables. The pseudo-random number generator used for rarefaction by subsampling is NumPy’s default - an implementation of the Mersenne twister PRNG.\""
   ]
  },
  {
   "cell_type": "code",
   "execution_count": 50,
   "metadata": {},
   "outputs": [
    {
     "name": "stdout",
     "output_type": "stream",
     "text": [
      "\u001b[31m\u001b[1mError: QIIME 2 has no plugin/command named 'multiple_rarefactions'.\u001b[0m\r\n"
     ]
    }
   ],
   "source": [
    "#multiple_rarefactions.py -i dada2_output/exported_table_filt/feature-table.biom -m 4000 -x 18100 -s 100 -n 10 -o rare_4000-18100/"
   ]
  },
  {
   "cell_type": "markdown",
   "metadata": {},
   "source": [
    "## Assign taxonomy\n",
    "You can assign taxonomy to your ASVs using a Naive-Bayes approach implemented in the scikit learn Python library and the SILVA database. Note that we have trained classifiers for a few different amplicon regions already (which are available in the /home/shared/taxa_classifiers folder), but you will need to generate your own if your region of interest isn't there. The classifier filename below is for the V6/V8 B969F-BA1406R region. The regions that we have trained classifiers for are:"
   ]
  },
  {
   "cell_type": "markdown",
   "metadata": {},
   "source": [
    "A more useful output is the interactive stacked bar-charts of the taxonomic abundances across samples, which can be output with this command:"
   ]
  },
  {
   "cell_type": "markdown",
   "metadata": {},
   "source": [
    "As with all QZA files, you can export the output file to take a look at the classifications and confidence scores:"
   ]
  },
  {
   "cell_type": "markdown",
   "metadata": {},
   "source": [
    "A more useful output is the interactive stacked bar-charts of the taxonomic abundances across samples, which can be output with this command:"
   ]
  },
  {
   "cell_type": "code",
   "execution_count": 145,
   "metadata": {},
   "outputs": [
    {
     "name": "stdout",
     "output_type": "stream",
     "text": [
      "\u001b[32mSaved Visualization to: taxa/taxa_barplot.qzv\u001b[0m\r\n"
     ]
    }
   ],
   "source": [
    "!qiime taxa barplot --i-table dada2_output/table_filt.qza \\\n",
    "                   --i-taxonomy taxa/classification.qza \\\n",
    "                   --m-metadata-file $mapping_file \\\n",
    "                   --o-visualization taxa/taxa_barplot.qzv"
   ]
  },
  {
   "cell_type": "markdown",
   "metadata": {},
   "source": [
    "Calculating diversity metrics and generating ordination plots\n",
    "Common alpha and beta-diversity metrics can be calculated with a single command in QIIME2. In addition, ordination plots (such as PCoA plots for weighted UniFrac distances) will be generated automatically as well. This command will also rarefy all samples to the sample sequencing depth before calculating these metrics (X is a placeholder for the lowest reasonable sample depth; samples with depth below this cut-off will be excluded)."
   ]
  },
  {
   "cell_type": "code",
   "execution_count": 146,
   "metadata": {},
   "outputs": [
    {
     "name": "stdout",
     "output_type": "stream",
     "text": [
      "\u001b[32mSaved FeatureTable[Frequency] to: diversity2/rarefied_table.qza\u001b[0m\n",
      "\u001b[32mSaved SampleData[AlphaDiversity] % Properties('phylogenetic') to: diversity2/faith_pd_vector.qza\u001b[0m\n",
      "\u001b[32mSaved SampleData[AlphaDiversity] to: diversity2/observed_otus_vector.qza\u001b[0m\n",
      "\u001b[32mSaved SampleData[AlphaDiversity] to: diversity2/shannon_vector.qza\u001b[0m\n",
      "\u001b[32mSaved SampleData[AlphaDiversity] to: diversity2/evenness_vector.qza\u001b[0m\n",
      "\u001b[32mSaved DistanceMatrix % Properties('phylogenetic') to: diversity2/unweighted_unifrac_distance_matrix.qza\u001b[0m\n",
      "\u001b[32mSaved DistanceMatrix % Properties('phylogenetic') to: diversity2/weighted_unifrac_distance_matrix.qza\u001b[0m\n",
      "\u001b[32mSaved DistanceMatrix to: diversity2/jaccard_distance_matrix.qza\u001b[0m\n",
      "\u001b[32mSaved DistanceMatrix to: diversity2/bray_curtis_distance_matrix.qza\u001b[0m\n",
      "\u001b[32mSaved PCoAResults to: diversity2/unweighted_unifrac_pcoa_results.qza\u001b[0m\n",
      "\u001b[32mSaved PCoAResults to: diversity2/weighted_unifrac_pcoa_results.qza\u001b[0m\n",
      "\u001b[32mSaved PCoAResults to: diversity2/jaccard_pcoa_results.qza\u001b[0m\n",
      "\u001b[32mSaved PCoAResults to: diversity2/bray_curtis_pcoa_results.qza\u001b[0m\n",
      "\u001b[32mSaved Visualization to: diversity2/unweighted_unifrac_emperor.qzv\u001b[0m\n",
      "\u001b[32mSaved Visualization to: diversity2/weighted_unifrac_emperor.qzv\u001b[0m\n",
      "\u001b[32mSaved Visualization to: diversity2/jaccard_emperor.qzv\u001b[0m\n",
      "\u001b[32mSaved Visualization to: diversity2/bray_curtis_emperor.qzv\u001b[0m\n"
     ]
    }
   ],
   "source": [
    "!qiime diversity core-metrics-phylogenetic --i-table dada2_output/table_filt.qza \\\n",
    "                                          --i-phylogeny tree_out/rep_seqs_filt_aligned_masked_tree_rooted.qza \\\n",
    "                                          --p-sampling-depth 20031 \\\n",
    "                                          --m-metadata-file $mapping_file \\\n",
    "                                          --p-n-jobs 2 \\\n",
    "                                          --output-dir diversity2"
   ]
  },
  {
   "cell_type": "markdown",
   "metadata": {},
   "source": [
    "Output diversity2 qzas to tsvs."
   ]
  },
  {
   "cell_type": "code",
   "execution_count": 147,
   "metadata": {},
   "outputs": [
    {
     "name": "stdout",
     "output_type": "stream",
     "text": [
      "\u001b[32mExported bray_curtis_distance_matrix.qza as DistanceMatrixDirectoryFormat to directory temp\u001b[0m\n",
      "\u001b[32mExported jaccard_distance_matrix.qza as DistanceMatrixDirectoryFormat to directory temp\u001b[0m\n",
      "\u001b[32mExported unweighted_unifrac_distance_matrix.qza as DistanceMatrixDirectoryFormat to directory temp\u001b[0m\n",
      "\u001b[32mExported weighted_unifrac_distance_matrix.qza as DistanceMatrixDirectoryFormat to directory temp\u001b[0m\n",
      "\u001b[32mExported evenness_vector.qza as AlphaDiversityDirectoryFormat to directory temp\u001b[0m\n",
      "\u001b[32mExported faith_pd_vector.qza as AlphaDiversityDirectoryFormat to directory temp\u001b[0m\n",
      "\u001b[32mExported rarefied_table.qza as BIOMV210DirFmt to directory temp\u001b[0m\n",
      "\u001b[32mExported observed_otus_vector.qza as AlphaDiversityDirectoryFormat to directory temp\u001b[0m\n",
      "\u001b[32mExported shannon_vector.qza as AlphaDiversityDirectoryFormat to directory temp\u001b[0m\n"
     ]
    }
   ],
   "source": [
    "chdir(\"diversity2\")\n",
    "\n",
    "!qiime tools export --input-path bray_curtis_distance_matrix.qza --output-path temp\n",
    "!mv temp/distance-matrix.tsv braydistance-matrix.tsv\n",
    "\n",
    "!qiime tools export --input-path jaccard_distance_matrix.qza --output-path temp\n",
    "!mv temp/distance-matrix.tsv jaccarddist-matrix.tsv\n",
    "\n",
    "!qiime tools export --input-path unweighted_unifrac_distance_matrix.qza --output-path temp\n",
    "!mv temp/distance-matrix.tsv unweightunifr.tsv\n",
    "\n",
    "!qiime tools export --input-path weighted_unifrac_distance_matrix.qza --output-path temp\n",
    "!mv temp/distance-matrix.tsv weightunifr-matrix.tsv\n",
    "\n",
    "!qiime tools export --input-path evenness_vector.qza --output-path temp\n",
    "!mv temp/alpha-diversity.tsv evenessalpha.tsv\n",
    "\n",
    "!qiime tools export --input-path faith_pd_vector.qza --output-path temp\n",
    "!mv temp/alpha-diversity.tsv faithpdalpha.tsv\n",
    "\n",
    "!qiime tools export --input-path rarefied_table.qza --output-path temp #biom\n",
    "!biom convert -i temp/feature-table.biom -o rarifiedtable.tsv --to-tsv\n",
    "\n",
    "!qiime tools export --input-path observed_otus_vector.qza --output-path temp\n",
    "!mv temp/alpha-diversity.tsv observedOTUs.tsv\n",
    "\n",
    "!qiime tools export --input-path shannon_vector.qza --output-path temp\n",
    "!mv temp/alpha-diversity.tsv shannonvector.tsv\n",
    "\n",
    "!rm -r temp\n",
    "\n",
    "chdir(\"..\")"
   ]
  },
  {
   "cell_type": "markdown",
   "metadata": {},
   "source": [
    "Identifying differentially abundant features with ANCOM\n",
    "ANCOM is one method to test for difference in the relative abundance of features between sample groupings. \n",
    "It is a compositional approach that makes no assumptions about feature distributions. \n",
    "\n",
    "... basically, we want to find stuff that plots near top right as being truly different across groups\n",
    "\n",
    "However, it requires that all features have non-zero abundances so a pseudocount of 1 first needs to be added:"
   ]
  },
  {
   "cell_type": "code",
   "execution_count": 123,
   "metadata": {},
   "outputs": [
    {
     "name": "stdout",
     "output_type": "stream",
     "text": [
      "\u001b[32mSaved FeatureTable[Composition] to: dada2_output/table_filt_pseudocount.qza\u001b[0m\r\n"
     ]
    }
   ],
   "source": [
    "!qiime composition add-pseudocount --i-table dada2_output/table_filt.qza \\\n",
    "                                  --o-composition-table dada2_output/table_filt_pseudocount.qza"
   ]
  },
  {
   "cell_type": "markdown",
   "metadata": {},
   "source": [
    "run ancom for month variable..."
   ]
  },
  {
   "cell_type": "code",
   "execution_count": 140,
   "metadata": {},
   "outputs": [
    {
     "name": "stdout",
     "output_type": "stream",
     "text": [
      "\u001b[32mSaved Visualization to: ancom_DEG_output_month/visualization.qzv\u001b[0m\r\n"
     ]
    }
   ],
   "source": [
    "!qiime composition ancom --i-table dada2_output/table_filt_pseudocount.qza \\\n",
    "                        --m-metadata-file $mapping_file \\\n",
    "                        --m-metadata-column Month \\\n",
    "                        --output-dir ancom_DEG_output_month"
   ]
  },
  {
   "cell_type": "markdown",
   "metadata": {},
   "source": [
    "run ancom for pos variable..."
   ]
  },
  {
   "cell_type": "code",
   "execution_count": 148,
   "metadata": {},
   "outputs": [
    {
     "name": "stdout",
     "output_type": "stream",
     "text": [
      "\u001b[32mSaved Visualization to: ancom_DEG_output_pos/visualization.qzv\u001b[0m\r\n"
     ]
    }
   ],
   "source": [
    "!qiime composition ancom --i-table dada2_output/table_filt_pseudocount.qza \\\n",
    "                        --m-metadata-file $mapping_file \\\n",
    "                        --m-metadata-column pos \\\n",
    "                        --output-dir ancom_DEG_output_pos"
   ]
  },
  {
   "cell_type": "markdown",
   "metadata": {},
   "source": [
    "run ancom for depth variable..."
   ]
  },
  {
   "cell_type": "code",
   "execution_count": null,
   "metadata": {},
   "outputs": [],
   "source": [
    "!qiime composition ancom --i-table dada2_output/table_filt_pseudocount.qza \\\n",
    "                        --m-metadata-file $mapping_file \\\n",
    "                        --m-metadata-column Depth \\\n",
    "                        --output-dir ancom_DEG_output_Depth"
   ]
  },
  {
   "cell_type": "code",
   "execution_count": 92,
   "metadata": {},
   "outputs": [
    {
     "name": "stdout",
     "output_type": "stream",
     "text": [
      "\u001b[32mExported dada2_output/table_filt.qza as BIOMV210DirFmt to directory dada2_output_exported\u001b[0m\n",
      "\u001b[32mExported dada2_output/rep_seqs_filt.qza as DNASequencesDirectoryFormat to directory dada2_output_exported\u001b[0m\n"
     ]
    }
   ],
   "source": [
    "#!qiime tools export --input-path dada2_output/table_filt.qza --output-path dada2_output_exported\n",
    "#!qiime tools export --input-path dada2_output/rep_seqs_filt.qza --output-path dada2_output_exported"
   ]
  },
  {
   "cell_type": "code",
   "execution_count": 149,
   "metadata": {},
   "outputs": [
    {
     "name": "stdout",
     "output_type": "stream",
     "text": [
      "\u001b[32mSaved Visualization to: diversity2/faith-pd-group-significance.qzv\u001b[0m\n",
      "\u001b[32mSaved Visualization to: diversity2/evenness-group-significance.qzv\u001b[0m\n"
     ]
    }
   ],
   "source": [
    "!qiime diversity alpha-group-significance \\\n",
    "  --i-alpha-diversity diversity2/faith_pd_vector.qza \\\n",
    "  --m-metadata-file $mapping_file \\\n",
    "  --o-visualization diversity2/faith-pd-group-significance.qzv\n",
    "\n",
    "!qiime diversity alpha-group-significance \\\n",
    "  --i-alpha-diversity diversity2/evenness_vector.qza \\\n",
    "  --m-metadata-file $mapping_file \\\n",
    "  --o-visualization diversity2/evenness-group-significance.qzv"
   ]
  },
  {
   "cell_type": "code",
   "execution_count": 150,
   "metadata": {},
   "outputs": [
    {
     "name": "stdout",
     "output_type": "stream",
     "text": [
      "\u001b[32mSaved Visualization to: diversity2/unweighted-unifrac-Month-group-significance.qzv\u001b[0m\r\n"
     ]
    }
   ],
   "source": [
    "!qiime diversity beta-group-significance \\\n",
    "  --i-distance-matrix diversity2/unweighted_unifrac_distance_matrix.qza \\\n",
    "  --m-metadata-file $mapping_file \\\n",
    "  --m-metadata-column Month \\\n",
    "  --o-visualization diversity2/unweighted-unifrac-Month-group-significance.qzv \\\n",
    "  --p-pairwise"
   ]
  },
  {
   "cell_type": "markdown",
   "metadata": {},
   "source": [
    "produce all of the \"classic OTU tables\" with frequencies and taxonomy at desired taxonomic levels by inputting the filtered feature frequency table and taxonomy classification and using taxa-collapse. Also output additional pseudocount and ancom data at finest level. **NOTE the default output level for QIIME2 is 3 (class). If you need other levels, specify.**"
   ]
  },
  {
   "cell_type": "code",
   "execution_count": 128,
   "metadata": {},
   "outputs": [],
   "source": [
    "!mkdir abs_OTUtables"
   ]
  },
  {
   "cell_type": "code",
   "execution_count": 129,
   "metadata": {},
   "outputs": [
    {
     "name": "stdout",
     "output_type": "stream",
     "text": [
      "\u001b[32mSaved FeatureTable[Frequency] to: abs_OTUtables/table_filt-16_L7.qza\u001b[0m\n",
      "\u001b[32mSaved FeatureTable[Frequency] to: abs_OTUtables/table_filt-16_L2.qza\u001b[0m\n",
      "\u001b[32mSaved FeatureTable[Frequency] to: abs_OTUtables/table_filt-16_L3.qza\u001b[0m\n",
      "\u001b[32mSaved FeatureTable[Frequency] to: abs_OTUtables/table_filt-16_L4.qza\u001b[0m\n",
      "\u001b[32mSaved FeatureTable[Frequency] to: abs_OTUtables/table_filt-16_L5.qza\u001b[0m\n",
      "\u001b[32mSaved FeatureTable[Frequency] to: abs_OTUtables/table_filt-16_L6.qza\u001b[0m\n"
     ]
    }
   ],
   "source": [
    "!qiime taxa collapse \\\n",
    "  --i-table dada2_output/table_filt.qza \\\n",
    "  --i-taxonomy taxa/classification.qza \\\n",
    "  --p-level 7 \\\n",
    "  --o-collapsed-table abs_OTUtables/table_filt-16_L7.qza\n",
    "\n",
    "!qiime taxa collapse \\\n",
    "  --i-table dada2_output/table_filt.qza \\\n",
    "  --i-taxonomy taxa/classification.qza \\\n",
    "  --p-level 2 \\\n",
    "  --o-collapsed-table abs_OTUtables/table_filt-16_L2.qza\n",
    "\n",
    "!qiime taxa collapse \\\n",
    "  --i-table dada2_output/table_filt.qza \\\n",
    "  --i-taxonomy taxa/classification.qza \\\n",
    "  --p-level 3 \\\n",
    "  --o-collapsed-table abs_OTUtables/table_filt-16_L3.qza\n",
    "\n",
    "!qiime taxa collapse \\\n",
    "  --i-table dada2_output/table_filt.qza \\\n",
    "  --i-taxonomy taxa/classification.qza \\\n",
    "  --p-level 4 \\\n",
    "  --o-collapsed-table abs_OTUtables/table_filt-16_L4.qza\n",
    "\n",
    "!qiime taxa collapse \\\n",
    "  --i-table dada2_output/table_filt.qza \\\n",
    "  --i-taxonomy taxa/classification.qza \\\n",
    "  --p-level 5 \\\n",
    "  --o-collapsed-table abs_OTUtables/table_filt-16_L5.qza\n",
    "\n",
    "!qiime taxa collapse \\\n",
    "  --i-table dada2_output/table_filt.qza \\\n",
    "  --i-taxonomy taxa/classification.qza \\\n",
    "  --p-level 6 \\\n",
    "  --o-collapsed-table abs_OTUtables/table_filt-16_L6.qza"
   ]
  },
  {
   "cell_type": "markdown",
   "metadata": {},
   "source": [
    "export the taxa-collapse qza files to temporary directories, then convert biom files to tsv."
   ]
  },
  {
   "cell_type": "code",
   "execution_count": 130,
   "metadata": {},
   "outputs": [
    {
     "name": "stdout",
     "output_type": "stream",
     "text": [
      "\u001b[32mExported abs_OTUtables/table_filt-16_L7.qza as BIOMV210DirFmt to directory roo1\u001b[0m\n",
      "\u001b[32mExported abs_OTUtables/table_filt-16_L2.qza as BIOMV210DirFmt to directory roo2\u001b[0m\n",
      "\u001b[32mExported abs_OTUtables/table_filt-16_L3.qza as BIOMV210DirFmt to directory roo3\u001b[0m\n",
      "\u001b[32mExported abs_OTUtables/table_filt-16_L4.qza as BIOMV210DirFmt to directory roo4\u001b[0m\n",
      "\u001b[32mExported abs_OTUtables/table_filt-16_L5.qza as BIOMV210DirFmt to directory roo5\u001b[0m\n",
      "\u001b[32mExported abs_OTUtables/table_filt-16_L6.qza as BIOMV210DirFmt to directory roo6\u001b[0m\n"
     ]
    }
   ],
   "source": [
    "!qiime tools export --input-path abs_OTUtables/table_filt-16_L7.qza --output-path roo1\n",
    "!qiime tools export --input-path abs_OTUtables/table_filt-16_L2.qza --output-path roo2\n",
    "!qiime tools export --input-path abs_OTUtables/table_filt-16_L3.qza --output-path roo3\n",
    "!qiime tools export --input-path abs_OTUtables/table_filt-16_L4.qza --output-path roo4\n",
    "!qiime tools export --input-path abs_OTUtables/table_filt-16_L5.qza --output-path roo5\n",
    "!qiime tools export --input-path abs_OTUtables/table_filt-16_L6.qza --output-path roo6"
   ]
  },
  {
   "cell_type": "code",
   "execution_count": 131,
   "metadata": {},
   "outputs": [],
   "source": [
    "!biom convert -i roo1/feature-table.biom -o abs_OTUtables/table_filt-16_L7.tsv --to-tsv\n",
    "!biom convert -i roo2/feature-table.biom -o abs_OTUtables/table_filt-16_L2.tsv --to-tsv\n",
    "!biom convert -i roo3/feature-table.biom -o abs_OTUtables/table_filt-16_L3.tsv --to-tsv\n",
    "!biom convert -i roo4/feature-table.biom -o abs_OTUtables/table_filt-16_L4.tsv --to-tsv\n",
    "!biom convert -i roo5/feature-table.biom -o abs_OTUtables/table_filt-16_L5.tsv --to-tsv\n",
    "!biom convert -i roo6/feature-table.biom -o abs_OTUtables/table_filt-16_L6.tsv --to-tsv"
   ]
  },
  {
   "cell_type": "markdown",
   "metadata": {},
   "source": [
    "use the taxa collapsed frequency/OTU tables to create relative abundance tables, export to biom, convert biom to tsv. Then remove the temporary directories."
   ]
  },
  {
   "cell_type": "code",
   "execution_count": 132,
   "metadata": {},
   "outputs": [],
   "source": [
    "!mkdir rel_OTUtables"
   ]
  },
  {
   "cell_type": "code",
   "execution_count": 133,
   "metadata": {},
   "outputs": [
    {
     "name": "stdout",
     "output_type": "stream",
     "text": [
      "\u001b[32mSaved FeatureTable[RelativeFrequency] to: rel_OTUtables/rel-phyla-table_L7.qza\u001b[0m\n",
      "\u001b[32mSaved FeatureTable[RelativeFrequency] to: rel_OTUtables/rel-phyla-table_L3.qza\u001b[0m\n",
      "\u001b[32mSaved FeatureTable[RelativeFrequency] to: rel_OTUtables/rel-phyla-table_L2.qza\u001b[0m\n",
      "\u001b[32mSaved FeatureTable[RelativeFrequency] to: rel_OTUtables/rel-phyla-table_L4.qza\u001b[0m\n",
      "\u001b[32mSaved FeatureTable[RelativeFrequency] to: rel_OTUtables/rel-phyla-table_L5.qza\u001b[0m\n",
      "\u001b[32mSaved FeatureTable[RelativeFrequency] to: rel_OTUtables/rel-phyla-table_L6.qza\u001b[0m\n",
      "\u001b[32mExported rel_OTUtables/rel-phyla-table_L7.qza as BIOMV210DirFmt to directory roo1\u001b[0m\n",
      "\u001b[32mExported rel_OTUtables/rel-phyla-table_L2.qza as BIOMV210DirFmt to directory roo2\u001b[0m\n",
      "\u001b[32mExported rel_OTUtables/rel-phyla-table_L3.qza as BIOMV210DirFmt to directory roo3\u001b[0m\n",
      "\u001b[32mExported rel_OTUtables/rel-phyla-table_L4.qza as BIOMV210DirFmt to directory roo4\u001b[0m\n",
      "\u001b[32mExported rel_OTUtables/rel-phyla-table_L5.qza as BIOMV210DirFmt to directory roo5\u001b[0m\n",
      "\u001b[32mExported rel_OTUtables/rel-phyla-table_L6.qza as BIOMV210DirFmt to directory roo6\u001b[0m\n"
     ]
    }
   ],
   "source": [
    "!qiime feature-table relative-frequency \\\n",
    "--i-table abs_OTUtables/table_filt-16_L7.qza \\\n",
    "--o-relative-frequency-table rel_OTUtables/rel-phyla-table_L7.qza\n",
    "\n",
    "!qiime feature-table relative-frequency \\\n",
    "--i-table abs_OTUtables/table_filt-16_L3.qza \\\n",
    "--o-relative-frequency-table rel_OTUtables/rel-phyla-table_L3.qza\n",
    "\n",
    "!qiime feature-table relative-frequency \\\n",
    "--i-table abs_OTUtables/table_filt-16_L2.qza \\\n",
    "--o-relative-frequency-table rel_OTUtables/rel-phyla-table_L2.qza\n",
    "\n",
    "!qiime feature-table relative-frequency \\\n",
    "--i-table abs_OTUtables/table_filt-16_L4.qza \\\n",
    "--o-relative-frequency-table rel_OTUtables/rel-phyla-table_L4.qza\n",
    "\n",
    "!qiime feature-table relative-frequency \\\n",
    "--i-table abs_OTUtables/table_filt-16_L5.qza \\\n",
    "--o-relative-frequency-table rel_OTUtables/rel-phyla-table_L5.qza\n",
    "\n",
    "!qiime feature-table relative-frequency \\\n",
    "--i-table abs_OTUtables/table_filt-16_L6.qza \\\n",
    "--o-relative-frequency-table rel_OTUtables/rel-phyla-table_L6.qza\n",
    "\n",
    "!qiime tools export --input-path rel_OTUtables/rel-phyla-table_L7.qza --output-path roo1\n",
    "!qiime tools export --input-path rel_OTUtables/rel-phyla-table_L2.qza --output-path roo2\n",
    "!qiime tools export --input-path rel_OTUtables/rel-phyla-table_L3.qza --output-path roo3\n",
    "!qiime tools export --input-path rel_OTUtables/rel-phyla-table_L4.qza --output-path roo4\n",
    "!qiime tools export --input-path rel_OTUtables/rel-phyla-table_L5.qza --output-path roo5\n",
    "!qiime tools export --input-path rel_OTUtables/rel-phyla-table_L6.qza --output-path roo6\n",
    "\n",
    "!biom convert -i roo1/feature-table.biom -o rel_OTUtables/rel-phyla-table_L7.tsv --to-tsv\n",
    "!biom convert -i roo2/feature-table.biom -o rel_OTUtables/rel-phyla-table_L2.tsv --to-tsv\n",
    "!biom convert -i roo3/feature-table.biom -o rel_OTUtables/rel-phyla-table_L3.tsv --to-tsv\n",
    "!biom convert -i roo4/feature-table.biom -o rel_OTUtables/rel-phyla-table_L4.tsv --to-tsv\n",
    "!biom convert -i roo5/feature-table.biom -o rel_OTUtables/rel-phyla-table_L5.tsv --to-tsv\n",
    "!biom convert -i roo6/feature-table.biom -o rel_OTUtables/rel-phyla-table_L6.tsv --to-tsv"
   ]
  },
  {
   "cell_type": "code",
   "execution_count": 134,
   "metadata": {},
   "outputs": [],
   "source": [
    "!rm -r roo1\n",
    "!rm -r roo2\n",
    "!rm -r roo3\n",
    "!rm -r roo4\n",
    "!rm -r roo5\n",
    "!rm -r roo6"
   ]
  },
  {
   "cell_type": "code",
   "execution_count": null,
   "metadata": {},
   "outputs": [],
   "source": []
  }
 ],
 "metadata": {
  "kernelspec": {
   "display_name": "Python 3",
   "language": "python",
   "name": "python3"
  },
  "language_info": {
   "codemirror_mode": {
    "name": "ipython",
    "version": 3
   },
   "file_extension": ".py",
   "mimetype": "text/x-python",
   "name": "python",
   "nbconvert_exporter": "python",
   "pygments_lexer": "ipython3",
   "version": "3.6.7"
  }
 },
 "nbformat": 4,
 "nbformat_minor": 2
}
